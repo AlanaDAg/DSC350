{
 "cells": [
  {
   "cell_type": "markdown",
   "id": "72f41c85-41fe-474f-90c9-7176774324f1",
   "metadata": {},
   "source": [
    "# <center> DSC 350 - Week 8 - Term Project <br> **Milestone 3**\n",
    "***\n",
    "## Alana D'Agostino\n",
    "### Professor Kinney\n",
    "#### 21 April 2024\n",
    "***"
   ]
  },
  {
   "cell_type": "markdown",
   "id": "c996861a-8061-44a6-a0ca-91603a7e8bd0",
   "metadata": {},
   "source": [
    "# <center>Prepare Notebook"
   ]
  },
  {
   "cell_type": "code",
   "execution_count": 72,
   "id": "ea32ce7c-0195-4dfc-aac1-647a717bd936",
   "metadata": {},
   "outputs": [],
   "source": [
    "# Import libraries and prep notebook\n",
    "import pandas as pd\n",
    "import requests"
   ]
  },
  {
   "cell_type": "code",
   "execution_count": 73,
   "id": "4ad91fdf-7f35-41ff-bf21-5e85919495f0",
   "metadata": {},
   "outputs": [
    {
     "data": {
      "text/plain": [
       "dict_keys(['kind', 'totalItems', 'items'])"
      ]
     },
     "execution_count": 73,
     "metadata": {},
     "output_type": "execute_result"
    }
   ],
   "source": [
    "# Retrieve book IDs from Google Books API\n",
    "## for Mary Shelley books\n",
    "maryshelley_query = 'intitle:frankenstein+inauthor:shelley'\n",
    "params = {\"q\": maryshelley_query}\n",
    "# API URL\n",
    "url = r'https://www.googleapis.com/books/v1/volumes'\n",
    "\n",
    "# get.()\n",
    "response = requests.get(url, params=params)\n",
    "\n",
    "# Use .json() to work with JSON data\n",
    "response_dict = response.json()\n",
    "# View the dictionary keys\n",
    "response_dict.keys()"
   ]
  },
  {
   "cell_type": "code",
   "execution_count": 74,
   "id": "8ae0b0a2-eac9-43ff-b43f-0357cfd9780f",
   "metadata": {},
   "outputs": [
    {
     "data": {
      "text/plain": [
       "98"
      ]
     },
     "execution_count": 74,
     "metadata": {},
     "output_type": "execute_result"
    }
   ],
   "source": [
    "# View 'totalItems'\n",
    "response_dict['totalItems']"
   ]
  },
  {
   "cell_type": "code",
   "execution_count": 75,
   "id": "cb737443-b170-4cf3-b5fd-aaba5984aeda",
   "metadata": {},
   "outputs": [
    {
     "data": {
      "text/plain": [
       "{'4HBqDwAAQBAJ',\n",
       " 'ExUHFNOmIIYC',\n",
       " 'IvPCt00pAT0C',\n",
       " 'UDg1EAAAQBAJ',\n",
       " 'UL6Cwv2Z1iQC',\n",
       " '_R68AAAAQBAJ',\n",
       " 'dW8M0BD4ozMC',\n",
       " 'hu1WAAAAYAAJ',\n",
       " 'ktQsEAAAQBAJ',\n",
       " 'uS-cEAAAQBAJ'}"
      ]
     },
     "execution_count": 75,
     "metadata": {},
     "output_type": "execute_result"
    }
   ],
   "source": [
    "# Google Books method calls: 'id'\n",
    "maryshelley_volume_ids = {vol['id'] for vol in response_dict['items']}\n",
    "maryshelley_volume_ids"
   ]
  },
  {
   "cell_type": "code",
   "execution_count": 76,
   "id": "8b191801-ac7c-4b30-abfb-a9b59b4f1d8c",
   "metadata": {},
   "outputs": [
    {
     "name": "stdout",
     "output_type": "stream",
     "text": [
      "<class 'pandas.core.frame.DataFrame'>\n",
      "RangeIndex: 10 entries, 0 to 9\n",
      "Data columns (total 1 columns):\n",
      " #   Column  Non-Null Count  Dtype \n",
      "---  ------  --------------  ----- \n",
      " 0   0       10 non-null     object\n",
      "dtypes: object(1)\n",
      "memory usage: 212.0+ bytes\n"
     ]
    },
    {
     "data": {
      "text/plain": [
       "None"
      ]
     },
     "metadata": {},
     "output_type": "display_data"
    }
   ],
   "source": [
    "# Create Pandas DataFrame for book IDs\n",
    "maryshelley_ids_df = pd.DataFrame(maryshelley_volume_ids)\n",
    "\n",
    "# View Mary Shelley volume IDs DF information\n",
    "display(maryshelley_ids_df.info())"
   ]
  },
  {
   "cell_type": "markdown",
   "id": "b515306e-f850-4b76-94ed-c6aa7f6a7f91",
   "metadata": {},
   "source": [
    "# <center> Transformation 1"
   ]
  },
  {
   "cell_type": "code",
   "execution_count": 77,
   "id": "f8c3fb7b-1607-4c32-80b4-96e80bdc82da",
   "metadata": {},
   "outputs": [
    {
     "data": {
      "text/html": [
       "<div>\n",
       "<style scoped>\n",
       "    .dataframe tbody tr th:only-of-type {\n",
       "        vertical-align: middle;\n",
       "    }\n",
       "\n",
       "    .dataframe tbody tr th {\n",
       "        vertical-align: top;\n",
       "    }\n",
       "\n",
       "    .dataframe thead th {\n",
       "        text-align: right;\n",
       "    }\n",
       "</style>\n",
       "<table border=\"1\" class=\"dataframe\">\n",
       "  <thead>\n",
       "    <tr style=\"text-align: right;\">\n",
       "      <th></th>\n",
       "      <th>ID</th>\n",
       "    </tr>\n",
       "  </thead>\n",
       "  <tbody>\n",
       "    <tr>\n",
       "      <th>0</th>\n",
       "      <td>ExUHFNOmIIYC</td>\n",
       "    </tr>\n",
       "    <tr>\n",
       "      <th>1</th>\n",
       "      <td>UL6Cwv2Z1iQC</td>\n",
       "    </tr>\n",
       "    <tr>\n",
       "      <th>2</th>\n",
       "      <td>hu1WAAAAYAAJ</td>\n",
       "    </tr>\n",
       "    <tr>\n",
       "      <th>3</th>\n",
       "      <td>UDg1EAAAQBAJ</td>\n",
       "    </tr>\n",
       "    <tr>\n",
       "      <th>4</th>\n",
       "      <td>uS-cEAAAQBAJ</td>\n",
       "    </tr>\n",
       "    <tr>\n",
       "      <th>5</th>\n",
       "      <td>dW8M0BD4ozMC</td>\n",
       "    </tr>\n",
       "    <tr>\n",
       "      <th>6</th>\n",
       "      <td>_R68AAAAQBAJ</td>\n",
       "    </tr>\n",
       "    <tr>\n",
       "      <th>7</th>\n",
       "      <td>IvPCt00pAT0C</td>\n",
       "    </tr>\n",
       "    <tr>\n",
       "      <th>8</th>\n",
       "      <td>ktQsEAAAQBAJ</td>\n",
       "    </tr>\n",
       "    <tr>\n",
       "      <th>9</th>\n",
       "      <td>4HBqDwAAQBAJ</td>\n",
       "    </tr>\n",
       "  </tbody>\n",
       "</table>\n",
       "</div>"
      ],
      "text/plain": [
       "             ID\n",
       "0  ExUHFNOmIIYC\n",
       "1  UL6Cwv2Z1iQC\n",
       "2  hu1WAAAAYAAJ\n",
       "3  UDg1EAAAQBAJ\n",
       "4  uS-cEAAAQBAJ\n",
       "5  dW8M0BD4ozMC\n",
       "6  _R68AAAAQBAJ\n",
       "7  IvPCt00pAT0C\n",
       "8  ktQsEAAAQBAJ\n",
       "9  4HBqDwAAQBAJ"
      ]
     },
     "execution_count": 77,
     "metadata": {},
     "output_type": "execute_result"
    }
   ],
   "source": [
    "# Replace Headers using a dictionary\n",
    "\n",
    "# Use .columns() method because the imported DF doesn't have a column label to replace\n",
    "maryshelley_ids_df.columns = ['ID']\n",
    "\n",
    "# Confirm transformation\n",
    "maryshelley_ids_df"
   ]
  },
  {
   "cell_type": "markdown",
   "id": "13994241-9d35-4233-bc77-73a5f645bc9c",
   "metadata": {},
   "source": [
    "# <center> Transformation 2"
   ]
  },
  {
   "cell_type": "code",
   "execution_count": 110,
   "id": "25216d80-7c99-442c-b2a8-b238f62b9ccc",
   "metadata": {},
   "outputs": [
    {
     "data": {
      "text/plain": [
       "dict_keys(['kind', 'totalItems', 'items'])"
      ]
     },
     "execution_count": 110,
     "metadata": {},
     "output_type": "execute_result"
    }
   ],
   "source": [
    "# Retrieve book volume IDs from Google Books API\n",
    "## for Suzanne Collins books\n",
    "suzannecollins_query = 'intitle:Hunger+inauthor:Collins'\n",
    "t2_params = {\"q\": suzannecollins_query}\n",
    "# API URL\n",
    "url = r'https://www.googleapis.com/books/v1/volumes'\n",
    "\n",
    "# get.()\n",
    "t2_response = requests.get(url, params=t2_params)\n",
    "\n",
    "# Use .json() to work with JSON data\n",
    "t2_response_dict = t2_response.json()\n",
    "# View the dictionary keys\n",
    "t2_response_dict.keys()"
   ]
  },
  {
   "cell_type": "code",
   "execution_count": 111,
   "id": "548ba36d-c302-4a65-8b23-23a7136dadd4",
   "metadata": {},
   "outputs": [
    {
     "data": {
      "text/plain": [
       "101"
      ]
     },
     "execution_count": 111,
     "metadata": {},
     "output_type": "execute_result"
    }
   ],
   "source": [
    "# View 'totalItems'\n",
    "t2_response_dict['totalItems']"
   ]
  },
  {
   "cell_type": "code",
   "execution_count": 112,
   "id": "6ff90c30-21da-42b6-ade3-dbcce5f188a0",
   "metadata": {},
   "outputs": [
    {
     "data": {
      "text/plain": [
       "{'2AbKAgAAQBAJ',\n",
       " '2n4evAEACAAJ',\n",
       " '8oGEzgEACAAJ',\n",
       " 'CxbxAAAAMAAJ',\n",
       " 'GWxGBAAAQBAJ',\n",
       " 'NCZZj_GNafAC',\n",
       " 'Yz8Fnw0PlEQC',\n",
       " 'c9RGBAAAQBAJ',\n",
       " 'j38WswEACAAJ',\n",
       " 'zM-vZ-JiSFYC'}"
      ]
     },
     "execution_count": 112,
     "metadata": {},
     "output_type": "execute_result"
    }
   ],
   "source": [
    "# Google Books method calls: 'id'\n",
    "suzannecollins_volume_ids = {vol['id'] for vol in t2_response_dict['items']}\n",
    "suzannecollins_volume_ids"
   ]
  },
  {
   "cell_type": "code",
   "execution_count": 113,
   "id": "e8a0f1cb-c44c-40cf-9c4c-06e031a4012d",
   "metadata": {},
   "outputs": [
    {
     "name": "stdout",
     "output_type": "stream",
     "text": [
      "<class 'pandas.core.frame.DataFrame'>\n",
      "RangeIndex: 10 entries, 0 to 9\n",
      "Data columns (total 1 columns):\n",
      " #   Column  Non-Null Count  Dtype \n",
      "---  ------  --------------  ----- \n",
      " 0   0       10 non-null     object\n",
      "dtypes: object(1)\n",
      "memory usage: 212.0+ bytes\n"
     ]
    },
    {
     "data": {
      "text/plain": [
       "None"
      ]
     },
     "metadata": {},
     "output_type": "display_data"
    }
   ],
   "source": [
    "# Create Pandas DataFrame for book IDs\n",
    "suzannecollins_ids_df = pd.DataFrame(suzannecollins_volume_ids)\n",
    "\n",
    "# View Mary Shelley volume IDs DF information\n",
    "display(suzannecollins_ids_df.info())"
   ]
  },
  {
   "cell_type": "code",
   "execution_count": 114,
   "id": "2b50fea3-3940-4323-9b92-2e19f0425860",
   "metadata": {},
   "outputs": [
    {
     "data": {
      "text/html": [
       "<div>\n",
       "<style scoped>\n",
       "    .dataframe tbody tr th:only-of-type {\n",
       "        vertical-align: middle;\n",
       "    }\n",
       "\n",
       "    .dataframe tbody tr th {\n",
       "        vertical-align: top;\n",
       "    }\n",
       "\n",
       "    .dataframe thead th {\n",
       "        text-align: right;\n",
       "    }\n",
       "</style>\n",
       "<table border=\"1\" class=\"dataframe\">\n",
       "  <thead>\n",
       "    <tr style=\"text-align: right;\">\n",
       "      <th></th>\n",
       "      <th>ID</th>\n",
       "    </tr>\n",
       "  </thead>\n",
       "  <tbody>\n",
       "    <tr>\n",
       "      <th>0</th>\n",
       "      <td>2AbKAgAAQBAJ</td>\n",
       "    </tr>\n",
       "    <tr>\n",
       "      <th>1</th>\n",
       "      <td>c9RGBAAAQBAJ</td>\n",
       "    </tr>\n",
       "    <tr>\n",
       "      <th>2</th>\n",
       "      <td>zM-vZ-JiSFYC</td>\n",
       "    </tr>\n",
       "    <tr>\n",
       "      <th>3</th>\n",
       "      <td>GWxGBAAAQBAJ</td>\n",
       "    </tr>\n",
       "    <tr>\n",
       "      <th>4</th>\n",
       "      <td>j38WswEACAAJ</td>\n",
       "    </tr>\n",
       "    <tr>\n",
       "      <th>5</th>\n",
       "      <td>Yz8Fnw0PlEQC</td>\n",
       "    </tr>\n",
       "    <tr>\n",
       "      <th>6</th>\n",
       "      <td>NCZZj_GNafAC</td>\n",
       "    </tr>\n",
       "    <tr>\n",
       "      <th>7</th>\n",
       "      <td>CxbxAAAAMAAJ</td>\n",
       "    </tr>\n",
       "    <tr>\n",
       "      <th>8</th>\n",
       "      <td>8oGEzgEACAAJ</td>\n",
       "    </tr>\n",
       "    <tr>\n",
       "      <th>9</th>\n",
       "      <td>2n4evAEACAAJ</td>\n",
       "    </tr>\n",
       "  </tbody>\n",
       "</table>\n",
       "</div>"
      ],
      "text/plain": [
       "             ID\n",
       "0  2AbKAgAAQBAJ\n",
       "1  c9RGBAAAQBAJ\n",
       "2  zM-vZ-JiSFYC\n",
       "3  GWxGBAAAQBAJ\n",
       "4  j38WswEACAAJ\n",
       "5  Yz8Fnw0PlEQC\n",
       "6  NCZZj_GNafAC\n",
       "7  CxbxAAAAMAAJ\n",
       "8  8oGEzgEACAAJ\n",
       "9  2n4evAEACAAJ"
      ]
     },
     "execution_count": 114,
     "metadata": {},
     "output_type": "execute_result"
    }
   ],
   "source": [
    "# Replace Headers using a dictionary\n",
    "\n",
    "# Use .columns() method because the imported DF doesn't have a column label to replace\n",
    "suzannecollins_ids_df.columns = ['ID']\n",
    "\n",
    "# Confirm transformation\n",
    "suzannecollins_ids_df"
   ]
  },
  {
   "cell_type": "markdown",
   "id": "33b14f07-169a-42f5-ab63-e59119932e94",
   "metadata": {},
   "source": [
    "# <center> Transformation 3"
   ]
  },
  {
   "cell_type": "code",
   "execution_count": 115,
   "id": "dd3d73ca-7bcb-4bb8-a1e6-c6884bb9b5b2",
   "metadata": {},
   "outputs": [
    {
     "data": {
      "text/plain": [
       "dict_keys(['kind', 'totalItems', 'items'])"
      ]
     },
     "execution_count": 115,
     "metadata": {},
     "output_type": "execute_result"
    }
   ],
   "source": [
    "# Retrieve book volume IDs from Google Books API\n",
    "## for Stephenie Meyer books\n",
    "stepheniemeyer_query = 'inauthor:meyer'\n",
    "t3_params = {\"q\": stepheniemeyer_query}\n",
    "# API URL\n",
    "url = r'https://www.googleapis.com/books/v1/volumes'\n",
    "\n",
    "# get.()\n",
    "t3_response = requests.get(url, params=t3_params)\n",
    "\n",
    "# Use .json() to work with JSON data\n",
    "t3_response_dict = t3_response.json()\n",
    "# View the dictionary keys\n",
    "t3_response_dict.keys()"
   ]
  },
  {
   "cell_type": "code",
   "execution_count": 116,
   "id": "69b2a8e5-9a06-44b7-862c-a4c240d9ff3c",
   "metadata": {},
   "outputs": [
    {
     "data": {
      "text/plain": [
       "138"
      ]
     },
     "execution_count": 116,
     "metadata": {},
     "output_type": "execute_result"
    }
   ],
   "source": [
    "# View 'totalItems'\n",
    "t3_response_dict['totalItems']"
   ]
  },
  {
   "cell_type": "code",
   "execution_count": 117,
   "id": "81c15297-723d-4971-a86a-42efa59fec6a",
   "metadata": {},
   "outputs": [
    {
     "data": {
      "text/plain": [
       "{'02CnDwAAQBAJ',\n",
       " '1u6_DwAAQBAJ',\n",
       " '3OrlBQAAQBAJ',\n",
       " 'DK4mFLeMorQC',\n",
       " 'F6bgDwAAQBAJ',\n",
       " 'JwKaQ6msi9MC',\n",
       " 'RfO1J6hjcdgC',\n",
       " 'lw99Oii9R90C',\n",
       " 'n9iuwXlZVeIC',\n",
       " 'r0hJAQAAMAAJ'}"
      ]
     },
     "execution_count": 117,
     "metadata": {},
     "output_type": "execute_result"
    }
   ],
   "source": [
    "# Google Books method calls: 'id'\n",
    "stepheniemeyer_volume_ids = {vol['id'] for vol in t3_response_dict['items']}\n",
    "stepheniemeyer_volume_ids"
   ]
  },
  {
   "cell_type": "code",
   "execution_count": 118,
   "id": "6e0e220b-f8b9-4f83-a30d-dba9b9736ce7",
   "metadata": {},
   "outputs": [
    {
     "name": "stdout",
     "output_type": "stream",
     "text": [
      "<class 'pandas.core.frame.DataFrame'>\n",
      "RangeIndex: 10 entries, 0 to 9\n",
      "Data columns (total 1 columns):\n",
      " #   Column  Non-Null Count  Dtype \n",
      "---  ------  --------------  ----- \n",
      " 0   0       10 non-null     object\n",
      "dtypes: object(1)\n",
      "memory usage: 212.0+ bytes\n"
     ]
    },
    {
     "data": {
      "text/plain": [
       "None"
      ]
     },
     "metadata": {},
     "output_type": "display_data"
    }
   ],
   "source": [
    "# Create Pandas DataFrame for book IDs\n",
    "stepheniemeyer_ids_df = pd.DataFrame(stepheniemeyer_volume_ids)\n",
    "\n",
    "# View Mary Shelley volume IDs DF information\n",
    "display(stepheniemeyer_ids_df.info())"
   ]
  },
  {
   "cell_type": "code",
   "execution_count": 119,
   "id": "ae2326ce-6425-4f15-a9df-a9a2e7fba56c",
   "metadata": {},
   "outputs": [
    {
     "data": {
      "text/html": [
       "<div>\n",
       "<style scoped>\n",
       "    .dataframe tbody tr th:only-of-type {\n",
       "        vertical-align: middle;\n",
       "    }\n",
       "\n",
       "    .dataframe tbody tr th {\n",
       "        vertical-align: top;\n",
       "    }\n",
       "\n",
       "    .dataframe thead th {\n",
       "        text-align: right;\n",
       "    }\n",
       "</style>\n",
       "<table border=\"1\" class=\"dataframe\">\n",
       "  <thead>\n",
       "    <tr style=\"text-align: right;\">\n",
       "      <th></th>\n",
       "      <th>ID</th>\n",
       "    </tr>\n",
       "  </thead>\n",
       "  <tbody>\n",
       "    <tr>\n",
       "      <th>0</th>\n",
       "      <td>02CnDwAAQBAJ</td>\n",
       "    </tr>\n",
       "    <tr>\n",
       "      <th>1</th>\n",
       "      <td>DK4mFLeMorQC</td>\n",
       "    </tr>\n",
       "    <tr>\n",
       "      <th>2</th>\n",
       "      <td>r0hJAQAAMAAJ</td>\n",
       "    </tr>\n",
       "    <tr>\n",
       "      <th>3</th>\n",
       "      <td>F6bgDwAAQBAJ</td>\n",
       "    </tr>\n",
       "    <tr>\n",
       "      <th>4</th>\n",
       "      <td>RfO1J6hjcdgC</td>\n",
       "    </tr>\n",
       "    <tr>\n",
       "      <th>5</th>\n",
       "      <td>n9iuwXlZVeIC</td>\n",
       "    </tr>\n",
       "    <tr>\n",
       "      <th>6</th>\n",
       "      <td>JwKaQ6msi9MC</td>\n",
       "    </tr>\n",
       "    <tr>\n",
       "      <th>7</th>\n",
       "      <td>1u6_DwAAQBAJ</td>\n",
       "    </tr>\n",
       "    <tr>\n",
       "      <th>8</th>\n",
       "      <td>lw99Oii9R90C</td>\n",
       "    </tr>\n",
       "    <tr>\n",
       "      <th>9</th>\n",
       "      <td>3OrlBQAAQBAJ</td>\n",
       "    </tr>\n",
       "  </tbody>\n",
       "</table>\n",
       "</div>"
      ],
      "text/plain": [
       "             ID\n",
       "0  02CnDwAAQBAJ\n",
       "1  DK4mFLeMorQC\n",
       "2  r0hJAQAAMAAJ\n",
       "3  F6bgDwAAQBAJ\n",
       "4  RfO1J6hjcdgC\n",
       "5  n9iuwXlZVeIC\n",
       "6  JwKaQ6msi9MC\n",
       "7  1u6_DwAAQBAJ\n",
       "8  lw99Oii9R90C\n",
       "9  3OrlBQAAQBAJ"
      ]
     },
     "execution_count": 119,
     "metadata": {},
     "output_type": "execute_result"
    }
   ],
   "source": [
    "# Replace Headers using a dictionary\n",
    "\n",
    "# Use .columns() method because the imported DF doesn't have a column label to replace\n",
    "stepheniemeyer_ids_df.columns = ['ID']\n",
    "\n",
    "# Confirm transformation\n",
    "stepheniemeyer_ids_df"
   ]
  },
  {
   "cell_type": "markdown",
   "id": "2dbae6dd-1885-40f1-8010-7ca2a6cea56e",
   "metadata": {},
   "source": [
    "# <center> Transformation 4"
   ]
  },
  {
   "cell_type": "code",
   "execution_count": 120,
   "id": "9c54504a-e3c9-48c9-926a-b731e44a5c23",
   "metadata": {},
   "outputs": [
    {
     "data": {
      "text/plain": [
       "dict_keys(['kind', 'totalItems', 'items'])"
      ]
     },
     "execution_count": 120,
     "metadata": {},
     "output_type": "execute_result"
    }
   ],
   "source": [
    "# Retrieve book volume IDs from Google Books API\n",
    "## for Harper Lee books\n",
    "harperlee_query = 'intitle:mocking+inauthor:lee'\n",
    "t4_params = {\"q\": harperlee_query}\n",
    "# API URL\n",
    "url = r'https://www.googleapis.com/books/v1/volumes'\n",
    "\n",
    "# get.()\n",
    "t4_response = requests.get(url, params=t4_params)\n",
    "\n",
    "# Use .json() to work with JSON data\n",
    "t4_response_dict = t4_response.json()\n",
    "# View the dictionary keys\n",
    "t4_response_dict.keys()"
   ]
  },
  {
   "cell_type": "code",
   "execution_count": 121,
   "id": "7397be8d-c213-4880-b317-69f6b005ee00",
   "metadata": {},
   "outputs": [
    {
     "data": {
      "text/plain": [
       "3"
      ]
     },
     "execution_count": 121,
     "metadata": {},
     "output_type": "execute_result"
    }
   ],
   "source": [
    "# View 'totalItems'\n",
    "t4_response_dict['totalItems']"
   ]
  },
  {
   "cell_type": "code",
   "execution_count": 122,
   "id": "da9dcf83-453b-4be5-a2a7-44548b647bc1",
   "metadata": {},
   "outputs": [
    {
     "data": {
      "text/plain": [
       "{'LifSkXZwQ-EC', 'klOOswEACAAJ', 'yuhzHAAACAAJ'}"
      ]
     },
     "execution_count": 122,
     "metadata": {},
     "output_type": "execute_result"
    }
   ],
   "source": [
    "# Google Books method calls: 'id'\n",
    "harperlee_volume_ids = {vol['id'] for vol in t4_response_dict['items']}\n",
    "harperlee_volume_ids"
   ]
  },
  {
   "cell_type": "code",
   "execution_count": 123,
   "id": "7f96b5c2-78df-4fcb-b0db-99f2864b6d77",
   "metadata": {},
   "outputs": [
    {
     "name": "stdout",
     "output_type": "stream",
     "text": [
      "<class 'pandas.core.frame.DataFrame'>\n",
      "RangeIndex: 3 entries, 0 to 2\n",
      "Data columns (total 1 columns):\n",
      " #   Column  Non-Null Count  Dtype \n",
      "---  ------  --------------  ----- \n",
      " 0   0       3 non-null      object\n",
      "dtypes: object(1)\n",
      "memory usage: 156.0+ bytes\n"
     ]
    },
    {
     "data": {
      "text/plain": [
       "None"
      ]
     },
     "metadata": {},
     "output_type": "display_data"
    }
   ],
   "source": [
    "# Create Pandas DataFrame for book IDs\n",
    "harperlee_ids_df = pd.DataFrame(harperlee_volume_ids)\n",
    "\n",
    "# View Mary Shelley volume IDs DF information\n",
    "display(harperlee_ids_df.info())"
   ]
  },
  {
   "cell_type": "code",
   "execution_count": 124,
   "id": "d37b2690-efc0-477b-aee7-3a51f25784db",
   "metadata": {},
   "outputs": [
    {
     "data": {
      "text/html": [
       "<div>\n",
       "<style scoped>\n",
       "    .dataframe tbody tr th:only-of-type {\n",
       "        vertical-align: middle;\n",
       "    }\n",
       "\n",
       "    .dataframe tbody tr th {\n",
       "        vertical-align: top;\n",
       "    }\n",
       "\n",
       "    .dataframe thead th {\n",
       "        text-align: right;\n",
       "    }\n",
       "</style>\n",
       "<table border=\"1\" class=\"dataframe\">\n",
       "  <thead>\n",
       "    <tr style=\"text-align: right;\">\n",
       "      <th></th>\n",
       "      <th>ID</th>\n",
       "    </tr>\n",
       "  </thead>\n",
       "  <tbody>\n",
       "    <tr>\n",
       "      <th>0</th>\n",
       "      <td>klOOswEACAAJ</td>\n",
       "    </tr>\n",
       "    <tr>\n",
       "      <th>1</th>\n",
       "      <td>LifSkXZwQ-EC</td>\n",
       "    </tr>\n",
       "    <tr>\n",
       "      <th>2</th>\n",
       "      <td>yuhzHAAACAAJ</td>\n",
       "    </tr>\n",
       "  </tbody>\n",
       "</table>\n",
       "</div>"
      ],
      "text/plain": [
       "             ID\n",
       "0  klOOswEACAAJ\n",
       "1  LifSkXZwQ-EC\n",
       "2  yuhzHAAACAAJ"
      ]
     },
     "execution_count": 124,
     "metadata": {},
     "output_type": "execute_result"
    }
   ],
   "source": [
    "# Replace Headers using a dictionary\n",
    "\n",
    "# Use .columns() method because the imported DF doesn't have a column label to replace\n",
    "harperlee_ids_df.columns = ['ID']\n",
    "\n",
    "# Confirm transformation\n",
    "harperlee_ids_df"
   ]
  },
  {
   "cell_type": "markdown",
   "id": "754ceaee-1e0f-490c-823d-2b7f1d567a69",
   "metadata": {},
   "source": [
    "# <center> Transformation 5"
   ]
  },
  {
   "cell_type": "code",
   "execution_count": 125,
   "id": "b9fead69-ab61-4072-b949-79569e2a4b5e",
   "metadata": {},
   "outputs": [
    {
     "data": {
      "text/plain": [
       "dict_keys(['kind', 'totalItems', 'items'])"
      ]
     },
     "execution_count": 125,
     "metadata": {},
     "output_type": "execute_result"
    }
   ],
   "source": [
    "# Retrieve book volume IDs from Google Books API\n",
    "## for J.K. Rowling books\n",
    "jkrowling_query = 'intitle:potter+inauthor:rowling'\n",
    "t5_params = {\"q\": jkrowling_query}\n",
    "# API URL\n",
    "url = r'https://www.googleapis.com/books/v1/volumes'\n",
    "\n",
    "# get.()\n",
    "t5_response = requests.get(url, params=t5_params)\n",
    "\n",
    "# Use .json() to work with JSON data\n",
    "t5_response_dict = t5_response.json()\n",
    "# View the dictionary keys\n",
    "t5_response_dict.keys()"
   ]
  },
  {
   "cell_type": "code",
   "execution_count": 126,
   "id": "d50872f1-bdc7-4055-9e14-2ab36952b154",
   "metadata": {},
   "outputs": [
    {
     "data": {
      "text/plain": [
       "83"
      ]
     },
     "execution_count": 126,
     "metadata": {},
     "output_type": "execute_result"
    }
   ],
   "source": [
    "# View 'totalItems'\n",
    "t5_response_dict['totalItems']"
   ]
  },
  {
   "cell_type": "code",
   "execution_count": 127,
   "id": "d56464b9-f8f2-4c4e-8deb-730dd2e2372d",
   "metadata": {},
   "outputs": [
    {
     "data": {
      "text/plain": [
       "{'5eSxngEACAAJ',\n",
       " '5iTebBW-w7QC',\n",
       " 'R7YsowJI9-IC',\n",
       " 'Sm5AKLXKxHgC',\n",
       " 'UM3LAwAACAAJ',\n",
       " '_oaAHiFOZmgC',\n",
       " 'gal9MtXKC68C',\n",
       " 'gqX7rQEACAAJ',\n",
       " 'he3qPAAACAAJ',\n",
       " 'xYotngEACAAJ'}"
      ]
     },
     "execution_count": 127,
     "metadata": {},
     "output_type": "execute_result"
    }
   ],
   "source": [
    "# Google Books method calls: 'id'\n",
    "jkrowling_volume_ids = {vol['id'] for vol in t5_response_dict['items']}\n",
    "jkrowling_volume_ids"
   ]
  },
  {
   "cell_type": "code",
   "execution_count": 128,
   "id": "77655d5c-1ac9-4591-aa1e-d9b499be1465",
   "metadata": {},
   "outputs": [
    {
     "name": "stdout",
     "output_type": "stream",
     "text": [
      "<class 'pandas.core.frame.DataFrame'>\n",
      "RangeIndex: 10 entries, 0 to 9\n",
      "Data columns (total 1 columns):\n",
      " #   Column  Non-Null Count  Dtype \n",
      "---  ------  --------------  ----- \n",
      " 0   0       10 non-null     object\n",
      "dtypes: object(1)\n",
      "memory usage: 212.0+ bytes\n"
     ]
    },
    {
     "data": {
      "text/plain": [
       "None"
      ]
     },
     "metadata": {},
     "output_type": "display_data"
    }
   ],
   "source": [
    "# Create Pandas DataFrame for book IDs\n",
    "jkrowling_ids_df = pd.DataFrame(jkrowling_volume_ids)\n",
    "\n",
    "# View Mary Shelley volume IDs DF information\n",
    "display(jkrowling_ids_df.info())"
   ]
  },
  {
   "cell_type": "code",
   "execution_count": 129,
   "id": "c06c3b3c-e7f4-4c0d-b516-791f68a87b2d",
   "metadata": {},
   "outputs": [
    {
     "data": {
      "text/html": [
       "<div>\n",
       "<style scoped>\n",
       "    .dataframe tbody tr th:only-of-type {\n",
       "        vertical-align: middle;\n",
       "    }\n",
       "\n",
       "    .dataframe tbody tr th {\n",
       "        vertical-align: top;\n",
       "    }\n",
       "\n",
       "    .dataframe thead th {\n",
       "        text-align: right;\n",
       "    }\n",
       "</style>\n",
       "<table border=\"1\" class=\"dataframe\">\n",
       "  <thead>\n",
       "    <tr style=\"text-align: right;\">\n",
       "      <th></th>\n",
       "      <th>ID</th>\n",
       "    </tr>\n",
       "  </thead>\n",
       "  <tbody>\n",
       "    <tr>\n",
       "      <th>0</th>\n",
       "      <td>UM3LAwAACAAJ</td>\n",
       "    </tr>\n",
       "    <tr>\n",
       "      <th>1</th>\n",
       "      <td>gal9MtXKC68C</td>\n",
       "    </tr>\n",
       "    <tr>\n",
       "      <th>2</th>\n",
       "      <td>5eSxngEACAAJ</td>\n",
       "    </tr>\n",
       "    <tr>\n",
       "      <th>3</th>\n",
       "      <td>R7YsowJI9-IC</td>\n",
       "    </tr>\n",
       "    <tr>\n",
       "      <th>4</th>\n",
       "      <td>he3qPAAACAAJ</td>\n",
       "    </tr>\n",
       "    <tr>\n",
       "      <th>5</th>\n",
       "      <td>Sm5AKLXKxHgC</td>\n",
       "    </tr>\n",
       "    <tr>\n",
       "      <th>6</th>\n",
       "      <td>5iTebBW-w7QC</td>\n",
       "    </tr>\n",
       "    <tr>\n",
       "      <th>7</th>\n",
       "      <td>xYotngEACAAJ</td>\n",
       "    </tr>\n",
       "    <tr>\n",
       "      <th>8</th>\n",
       "      <td>_oaAHiFOZmgC</td>\n",
       "    </tr>\n",
       "    <tr>\n",
       "      <th>9</th>\n",
       "      <td>gqX7rQEACAAJ</td>\n",
       "    </tr>\n",
       "  </tbody>\n",
       "</table>\n",
       "</div>"
      ],
      "text/plain": [
       "             ID\n",
       "0  UM3LAwAACAAJ\n",
       "1  gal9MtXKC68C\n",
       "2  5eSxngEACAAJ\n",
       "3  R7YsowJI9-IC\n",
       "4  he3qPAAACAAJ\n",
       "5  Sm5AKLXKxHgC\n",
       "6  5iTebBW-w7QC\n",
       "7  xYotngEACAAJ\n",
       "8  _oaAHiFOZmgC\n",
       "9  gqX7rQEACAAJ"
      ]
     },
     "execution_count": 129,
     "metadata": {},
     "output_type": "execute_result"
    }
   ],
   "source": [
    "# Replace Headers using a dictionary\n",
    "\n",
    "# Use .columns() method because the imported DF doesn't have a column label to replace\n",
    "jkrowling_ids_df.columns = ['ID']\n",
    "\n",
    "# Confirm transformation\n",
    "jkrowling_ids_df"
   ]
  },
  {
   "cell_type": "markdown",
   "id": "2ab46b3b-0a0e-451f-a32d-49e20b8dc13f",
   "metadata": {},
   "source": [
    "# **Sources:**\n",
    "\n",
    "## Notebook Preparation\n",
    "* Medium:\n",
    "  * __[Get Google Book Ids using Python](https://medium.com/@jprebys/get-google-book-ids-using-python-4773f533b769)__ Jacob Prebys, (2020, October 7)\n",
    "## Transformations\n",
    "* GeeksforGeeks:\n",
    "  * __[Add column names to dataframe in Pandas](https://www.geeksforgeeks.org/add-column-names-to-dataframe-in-pandas/)__ (2023, November 24)\n",
    " "
   ]
  },
  {
   "cell_type": "code",
   "execution_count": null,
   "id": "6bc2f493-f658-4ee4-a75d-d8fe71b6d036",
   "metadata": {},
   "outputs": [],
   "source": []
  }
 ],
 "metadata": {
  "kernelspec": {
   "display_name": "Python 3 (ipykernel)",
   "language": "python",
   "name": "python3"
  },
  "language_info": {
   "codemirror_mode": {
    "name": "ipython",
    "version": 3
   },
   "file_extension": ".py",
   "mimetype": "text/x-python",
   "name": "python",
   "nbconvert_exporter": "python",
   "pygments_lexer": "ipython3",
   "version": "3.11.7"
  }
 },
 "nbformat": 4,
 "nbformat_minor": 5
}
