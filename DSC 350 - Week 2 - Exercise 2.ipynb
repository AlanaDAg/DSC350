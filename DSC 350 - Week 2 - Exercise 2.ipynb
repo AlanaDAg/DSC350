{
 "cells": [
  {
   "cell_type": "markdown",
   "id": "ffb2cfa4-efdd-4e01-b87a-97a2335d33f5",
   "metadata": {},
   "source": [
    "# <center> DSC 350 - Week 2 - Exercise 2\n",
    "***\n",
    "## Alana D'Agostino\n",
    "### Professor Kinney\n",
    "Textbook Reference: __[Python Data Analysis (2nd Ed.)](https://github.com/AlanaDAg/Python-Data-Analysis-Second-Edition/blob/34f97526f893e11d3c6ef8bef6a7bb089490a802/Chapter01/ch-01.ipynb)__\n",
    "***"
   ]
  },
  {
   "cell_type": "code",
   "execution_count": 2,
   "id": "d0ef4224-4c1c-4c36-90fa-292835426bfb",
   "metadata": {},
   "outputs": [
    {
     "data": {
      "text/plain": [
       "()"
      ]
     },
     "execution_count": 2,
     "metadata": {},
     "output_type": "execute_result"
    }
   ],
   "source": [
    "# Code attribution\n",
    "\n",
    "/\n",
    "# ===================================================================================\n",
    "# Title: \"Python Data Analysis [Second Edition]\", Chapters 1, 2\n",
    "# Author: Armando Fandango\n",
    "# Date: 24 March 2024\n",
    "# Modified By: Alana D'Agostino (DSC 350 - Week 2 - Exercise 2 - Rough Draft)\n",
    "# Description: This program follows along with the code snippets/examples found in\n",
    "## chapters 1 & 2 of _Python Data Analysis (Second Edition)_.\n",
    "# ===================================================================================\n",
    "/"
   ]
  },
  {
   "cell_type": "markdown",
   "id": "0b94d85a-6210-4f4d-a0fa-7b82c74e0501",
   "metadata": {},
   "source": [
    "# <center> <font color=blue>Chapter 1 <br> Getting Started with Python Libraries</font>"
   ]
  },
  {
   "cell_type": "markdown",
   "id": "e3043595-36ff-4fb8-9c07-84ff8cae2f86",
   "metadata": {},
   "source": [
    "# 1. **Vectors**: Squares and Cubes with Python vs NumPy"
   ]
  },
  {
   "cell_type": "markdown",
   "id": "fc0120db-924a-4016-b2ea-54fdb7fc3073",
   "metadata": {},
   "source": [
    "<div style=\"background-color:#fcfce8\">\n",
    "<font color=green>> The vector <font color=black>$a$</font> holds the squares of integers <font color=black>$0$</font> to <font color=black>$n.$</font>\n",
    "<br>\n",
    ">>> <font color=green>For instance, if <font color=black>$n$</font> is equal to <font color=black>$3$, $a$</font> contains <font color=black>$0, 1,$</font> or <font color=black>$4.$</font>\n",
    "<br>\n",
    "> <font color=green>The vector <font color=black>$b$</font> is equal to <font color=black>$0, 1,$</font> or <font color=black>$8.$</font>\n",
    "</div>"
   ]
  },
  {
   "cell_type": "markdown",
   "id": "647a7a3e-273b-4955-8989-1b9bf17588c0",
   "metadata": {},
   "source": [
    "<font color=DeepPink>How would you solve using **Python**?"
   ]
  },
  {
   "cell_type": "code",
   "execution_count": 3,
   "id": "fb05cf52-afc3-4a5c-bbfa-a4ce331bb514",
   "metadata": {},
   "outputs": [
    {
     "name": "stdout",
     "output_type": "stream",
     "text": [
      "The vector values are printed in the following order:\n",
      "a, b, and c, while vector c is the summation of vectors a and b.\n",
      "([0, 1, 4], [0, 1, 8], [0, 2, 12])\n"
     ]
    }
   ],
   "source": [
    "# Vector (matrix) addition with only pure Python\n",
    "# Define a function\n",
    "\n",
    "def VecAdd_Py(n):\n",
    "    a = list(range(n))  # list() module must be used\n",
    "    b = list(range(n))  # because array() results in a TypeError\n",
    "    c = []              # To add arrays in Python, NumPy must be used\n",
    "\n",
    "    # Use 'for' loop so Python will calculate all values in the list\n",
    "    for i in range(len(a)):  # \"len(a)\" is specifying the stopping point for the loop\n",
    "        a[i] = i ** 2\n",
    "        b[i] = i **3\n",
    "        c.append(a[i] + b[i]) # append() adds vectors 'a' and 'b' to vector 'c'\n",
    "    \n",
    "    return a, b, c\n",
    "\n",
    "print(\"The vector values are printed in the following order:\" +\n",
    "      \"\\na, b, and c, while vector c is the summation of vectors a and b.\" +\n",
    "      f\"\\n{VecAdd_Py(3)}\")"
   ]
  },
  {
   "cell_type": "markdown",
   "id": "be19578f-3a53-4b28-aec3-4eb2850e7947",
   "metadata": {},
   "source": [
    "<font color=DeepPink>How would you solve using **NumPy**?"
   ]
  },
  {
   "cell_type": "code",
   "execution_count": 4,
   "id": "47e455af-b29e-4796-b7b7-8e2ff30f3799",
   "metadata": {},
   "outputs": [
    {
     "name": "stdout",
     "output_type": "stream",
     "text": [
      "The vector values were found with NumPy and are printed in the following order:\n",
      "a, b, and c, while vector c is the summation of vectors a and b.\n",
      "(array([0, 1, 4]), array([0, 1, 8], dtype=int32), array([ 0,  2, 12]))\n"
     ]
    }
   ],
   "source": [
    "# Vector (matrix) addition using NumPy\n",
    "# Import NumPy library\n",
    "import numpy as np\n",
    "\n",
    "# Define a function using NumPy\n",
    "def VecAdd_NumPy(n):\n",
    "    a = np.arange(n) ** 2  # arange() is NumPy's version of range()\n",
    "    b = np.arange(n) ** 3\n",
    "    c = a + b  # No need to use append(); '+' operator has add() built-in\n",
    "# for loop not necessary; arange() assumes the interval is from 0 to n \n",
    "    return a,b, c\n",
    "\n",
    "print(\"The vector values were found with NumPy and are printed in the following order:\" +\n",
    "      \"\\na, b, and c, while vector c is the summation of vectors a and b.\" +\n",
    "      f\"\\n{VecAdd_NumPy(3)}\")"
   ]
  },
  {
   "cell_type": "markdown",
   "id": "944d70f0-7d55-4e73-9576-6d3c78c1f0d3",
   "metadata": {},
   "source": [
    "# 2. **Plotting Datasets**: `iris` with Matplotlib"
   ]
  },
  {
   "cell_type": "markdown",
   "id": "02b79b09-1542-493e-a623-e266fd337c67",
   "metadata": {},
   "source": [
    "<font color=DeepPink>LOAD the `iris` dataset\n",
    "> <font color=DeepPink>PRINT a description of the dataset"
   ]
  },
  {
   "cell_type": "code",
   "execution_count": 5,
   "id": "8b6579e7-d345-4f99-b2c7-c7825948af10",
   "metadata": {
    "scrolled": true
   },
   "outputs": [
    {
     "name": "stdout",
     "output_type": "stream",
     "text": [
      ".. _iris_dataset:\n",
      "\n",
      "Iris plants dataset\n",
      "--------------------\n",
      "\n",
      "**Data Set Characteristics:**\n",
      "\n",
      "    :Number of Instances: 150 (50 in each of three classes)\n",
      "    :Number of Attributes: 4 numeric, predictive attributes and the class\n",
      "    :Attribute Information:\n",
      "        - sepal length in cm\n",
      "        - sepal width in cm\n",
      "        - petal length in cm\n",
      "        - petal width in cm\n",
      "        - class:\n",
      "                - Iris-Setosa\n",
      "                - Iris-Versicolour\n",
      "                - Iris-Virginica\n",
      "                \n",
      "    :Summary Statistics:\n",
      "\n",
      "    ============== ==== ==== ======= ===== ====================\n",
      "                    Min  Max   Mean    SD   Class Correlation\n",
      "    ============== ==== ==== ======= ===== ====================\n",
      "    sepal length:   4.3  7.9   5.84   0.83    0.7826\n",
      "    sepal width:    2.0  4.4   3.05   0.43   -0.4194\n",
      "    petal length:   1.0  6.9   3.76   1.76    0.9490  (high!)\n",
      "    petal width:    0.1  2.5   1.20   0.76    0.9565  (high!)\n",
      "    ============== ==== ==== ======= ===== ====================\n",
      "\n",
      "    :Missing Attribute Values: None\n",
      "    :Class Distribution: 33.3% for each of 3 classes.\n",
      "    :Creator: R.A. Fisher\n",
      "    :Donor: Michael Marshall (MARSHALL%PLU@io.arc.nasa.gov)\n",
      "    :Date: July, 1988\n",
      "\n",
      "The famous Iris database, first used by Sir R.A. Fisher. The dataset is taken\n",
      "from Fisher's paper. Note that it's the same as in R, but not as in the UCI\n",
      "Machine Learning Repository, which has two wrong data points.\n",
      "\n",
      "This is perhaps the best known database to be found in the\n",
      "pattern recognition literature.  Fisher's paper is a classic in the field and\n",
      "is referenced frequently to this day.  (See Duda & Hart, for example.)  The\n",
      "data set contains 3 classes of 50 instances each, where each class refers to a\n",
      "type of iris plant.  One class is linearly separable from the other 2; the\n",
      "latter are NOT linearly separable from each other.\n",
      "\n",
      ".. topic:: References\n",
      "\n",
      "   - Fisher, R.A. \"The use of multiple measurements in taxonomic problems\"\n",
      "     Annual Eugenics, 7, Part II, 179-188 (1936); also in \"Contributions to\n",
      "     Mathematical Statistics\" (John Wiley, NY, 1950).\n",
      "   - Duda, R.O., & Hart, P.E. (1973) Pattern Classification and Scene Analysis.\n",
      "     (Q327.D83) John Wiley & Sons.  ISBN 0-471-22361-1.  See page 218.\n",
      "   - Dasarathy, B.V. (1980) \"Nosing Around the Neighborhood: A New System\n",
      "     Structure and Classification Rule for Recognition in Partially Exposed\n",
      "     Environments\".  IEEE Transactions on Pattern Analysis and Machine\n",
      "     Intelligence, Vol. PAMI-2, No. 1, 67-71.\n",
      "   - Gates, G.W. (1972) \"The Reduced Nearest Neighbor Rule\".  IEEE Transactions\n",
      "     on Information Theory, May 1972, 431-433.\n",
      "   - See also: 1988 MLC Proceedings, 54-64.  Cheeseman et al\"s AUTOCLASS II\n",
      "     conceptual clustering system finds 3 classes in the data.\n",
      "   - Many, many more ...\n"
     ]
    }
   ],
   "source": [
    "# Import sklearn package with datasets in one step\n",
    "from sklearn.datasets import load_iris\n",
    "from sklearn.datasets import fetch_california_housing\n",
    "# Import Matplotlib to create plots\n",
    "import matplotlib.pyplot as plt\n",
    "\n",
    "# Load the `iris` dataset and print its description\n",
    "iris = load_iris()\n",
    "print(iris.DESCR)  # Using this instead of Pandas describe()"
   ]
  },
  {
   "cell_type": "markdown",
   "id": "c1e1b610-1346-4969-aded-ad39e13117e8",
   "metadata": {},
   "source": [
    "<font color=DeepPink>PLOT"
   ]
  },
  {
   "cell_type": "code",
   "execution_count": 6,
   "id": "d6682075-4ecd-4092-b88e-1722357c5264",
   "metadata": {},
   "outputs": [
    {
     "data": {
      "text/plain": [
       "[<matplotlib.lines.Line2D at 0x17c3ddbf390>]"
      ]
     },
     "execution_count": 6,
     "metadata": {},
     "output_type": "execute_result"
    },
    {
     "data": {
      "image/png": "[encoded data removed]",
      "text/plain": [
       "<Figure size 640x480 with 1 Axes>"
      ]
     },
     "metadata": {},
     "output_type": "display_data"
    }
   ],
   "source": [
    "# Plot using column 1 as x and column 2 as y\n",
    "data = iris.data\n",
    "plt.plot(data[:,0], data[:,1], \".\")\n",
    "# function notation used here: plt.plot(x, y, \"marker shape\")\n",
    "# NOTE: using the [:,0] means [first_row:last_row , column_0 ]"
   ]
  },
  {
   "cell_type": "markdown",
   "id": "c30cf10f-d3a5-4838-a61a-3c7b78cdfc36",
   "metadata": {},
   "source": [
    "# 3. **Plotting Datasets**: `california_housing` with Matplotlib"
   ]
  },
  {
   "cell_type": "markdown",
   "id": "2322dd66-ad66-4f01-9edf-d0c101abdac6",
   "metadata": {},
   "source": [
    "<font color=DeepPink>LOAD the `california_housing` dataset\n",
    "> <font color=DeepPink>PRINT the description of the dataset"
   ]
  },
  {
   "cell_type": "code",
   "execution_count": 7,
   "id": "ae3875e1-f369-4e3a-80ec-592928ae6a2d",
   "metadata": {
    "scrolled": true
   },
   "outputs": [
    {
     "name": "stdout",
     "output_type": "stream",
     "text": [
      ".. _california_housing_dataset:\n",
      "\n",
      "California Housing dataset\n",
      "--------------------------\n",
      "\n",
      "**Data Set Characteristics:**\n",
      "\n",
      "    :Number of Instances: 20640\n",
      "\n",
      "    :Number of Attributes: 8 numeric, predictive attributes and the target\n",
      "\n",
      "    :Attribute Information:\n",
      "        - MedInc        median income in block group\n",
      "        - HouseAge      median house age in block group\n",
      "        - AveRooms      average number of rooms per household\n",
      "        - AveBedrms     average number of bedrooms per household\n",
      "        - Population    block group population\n",
      "        - AveOccup      average number of household members\n",
      "        - Latitude      block group latitude\n",
      "        - Longitude     block group longitude\n",
      "\n",
      "    :Missing Attribute Values: None\n",
      "\n",
      "This dataset was obtained from the StatLib repository.\n",
      "https://www.dcc.fc.up.pt/~ltorgo/Regression/cal_housing.html\n",
      "\n",
      "The target variable is the median house value for California districts,\n",
      "expressed in hundreds of thousands of dollars ($100,000).\n",
      "\n",
      "This dataset was derived from the 1990 U.S. census, using one row per census\n",
      "block group. A block group is the smallest geographical unit for which the U.S.\n",
      "Census Bureau publishes sample data (a block group typically has a population\n",
      "of 600 to 3,000 people).\n",
      "\n",
      "A household is a group of people residing within a home. Since the average\n",
      "number of rooms and bedrooms in this dataset are provided per household, these\n",
      "columns may take surprisingly large values for block groups with few households\n",
      "and many empty houses, such as vacation resorts.\n",
      "\n",
      "It can be downloaded/loaded using the\n",
      ":func:`sklearn.datasets.fetch_california_housing` function.\n",
      "\n",
      ".. topic:: References\n",
      "\n",
      "    - Pace, R. Kelley and Ronald Barry, Sparse Spatial Autoregressions,\n",
      "      Statistics and Probability Letters, 33 (1997) 291-297\n",
      "\n"
     ]
    }
   ],
   "source": [
    "# Load the 'california_housing' dataset instead of 'boston'\n",
    "CA_housing = fetch_california_housing()\n",
    "# Print a description of the dataset\n",
    "print(CA_housing.DESCR) # Again, not using Pandas yet"
   ]
  },
  {
   "cell_type": "markdown",
   "id": "953b9924-bff2-4eb3-8eba-6b470a0f741c",
   "metadata": {},
   "source": [
    "> <font color=DeepPink>PLOT"
   ]
  },
  {
   "cell_type": "code",
   "execution_count": 27,
   "id": "29185819-2f12-47d3-8dfe-4ee38072c671",
   "metadata": {},
   "outputs": [
    {
     "data": {
      "text/plain": [
       "[<matplotlib.lines.Line2D at 0x17c3df13790>]"
      ]
     },
     "execution_count": 27,
     "metadata": {},
     "output_type": "execute_result"
    },
    {
     "data": {
      "image/png": "[encoded data removed]",
      "text/plain": [
       "<Figure size 640x480 with 1 Axes>"
      ]
     },
     "metadata": {},
     "output_type": "display_data"
    }
   ],
   "source": [
    "# Plot using column 2 as x and column 3 as y\n",
    "plt.plot(data[:,2], data[:,3], \"+\") # \"+\" denotes the plot marker shape"
   ]
  },
  {
   "cell_type": "markdown",
   "id": "84cda360-b839-481f-8dbb-31084a68a630",
   "metadata": {},
   "source": [
    "# <center> <font color=blue>Chapter 2 <br> NumPy Arrays</font>"
   ]
  },
  {
   "cell_type": "markdown",
   "id": "3f7dc238-ac51-4db4-bb24-4ac20062503a",
   "metadata": {},
   "source": [
    "# 4. **Arrays**: Multi-dimensional Array"
   ]
  },
  {
   "cell_type": "markdown",
   "id": "21cb9a45-2beb-4f35-8d34-ff521d17c1cb",
   "metadata": {},
   "source": [
    "<font color=DeepPink>Create a multi-dimensional array."
   ]
  },
  {
   "cell_type": "code",
   "execution_count": 35,
   "id": "3918a580-cf43-4353-b5c1-f6650606f441",
   "metadata": {},
   "outputs": [
    {
     "data": {
      "text/plain": [
       "array([[0, 1, 2, 3, 4, 5],\n",
       "       [0, 1, 2, 3, 4, 5]])"
      ]
     },
     "execution_count": 35,
     "metadata": {},
     "output_type": "execute_result"
    }
   ],
   "source": [
    "# Importing NumPy is not necessary since we did that above\n",
    "# Create a multi-dimensional array\n",
    "\n",
    "# NOTE: function notation: np.array([row_1(column width), row_2(column width)])\n",
    "md_array = np.array([np.arange(6), np.arange(6)])  # Array shape is 2x6\n",
    "md_array"
   ]
  },
  {
   "cell_type": "code",
   "execution_count": 10,
   "id": "d6b7345f-05fd-49be-971b-df3418228ba5",
   "metadata": {},
   "outputs": [
    {
     "data": {
      "text/plain": [
       "(2, 6)"
      ]
     },
     "execution_count": 10,
     "metadata": {},
     "output_type": "execute_result"
    }
   ],
   "source": [
    "# Use .shape() method to confirm multidimensional array shape\n",
    "md_array.shape"
   ]
  },
  {
   "cell_type": "markdown",
   "id": "0949ab85-7f73-4672-86c0-9d295906c26a",
   "metadata": {},
   "source": [
    "# 5. **Arrays**: Array of Single Precision Floats"
   ]
  },
  {
   "cell_type": "markdown",
   "id": "06d2148a-84d6-4e1d-8aba-26c6a1dab2bf",
   "metadata": {},
   "source": [
    "<font color=DeepPink>Produce an array of single precision floats."
   ]
  },
  {
   "cell_type": "code",
   "execution_count": 36,
   "id": "a6b0950c-860b-44b7-8c8e-75fc7c6474c8",
   "metadata": {},
   "outputs": [
    {
     "name": "stdout",
     "output_type": "stream",
     "text": [
      "[1. 2. 5. 6. 8. 9.]\n",
      "[0. 1. 2. 3. 4. 5. 6. 7. 8.]\n"
     ]
    }
   ],
   "source": [
    "# Create an array of single precision floats\n",
    "SPfloats_array = np.array([1, 2, 5, 6, 8, 9], dtype='f')\n",
    "print(SPfloats_array)\n",
    "# Another way is:\n",
    "SPF_array = np.arange(9, dtype='f')\n",
    "print(SPF_array)"
   ]
  },
  {
   "cell_type": "markdown",
   "id": "3c070e60-cddc-4501-82b6-6e6bf5ed05ec",
   "metadata": {},
   "source": [
    ">**NOTE:** Single precision float: dtype=float32 (8 bits exponent, and 23 bits mantissa) - p.28"
   ]
  },
  {
   "cell_type": "markdown",
   "id": "0363e1fa-13bb-43ba-b2f3-59dda2744ad4",
   "metadata": {},
   "source": [
    "# 6. **Arrays**: Array of Complex Numbers"
   ]
  },
  {
   "cell_type": "markdown",
   "id": "022b1672-11b6-455e-bf8c-5be90926730f",
   "metadata": {},
   "source": [
    "<font color=DeepPink>Produce an array of complex numbers."
   ]
  },
  {
   "cell_type": "code",
   "execution_count": 37,
   "id": "75bccca5-7845-411a-b212-a3760737003d",
   "metadata": {},
   "outputs": [
    {
     "data": {
      "text/plain": [
       "array([1.+0.j, 2.+0.j, 5.+0.j, 6.+0.j, 8.+0.j, 9.+0.j])"
      ]
     },
     "execution_count": 37,
     "metadata": {},
     "output_type": "execute_result"
    }
   ],
   "source": [
    "/\n",
    "# ===================================================================================\n",
    "# Title: numpy.array\n",
    "# Author: NumPy documentation\n",
    "# Date: 24 March 2024\n",
    "# Modified By: Alana D'Agostino (DSC 350 - Week 2 - Exercise 2 - Rough Draft)\n",
    "# Description: This code snippet depicts the use of np.array() function with\n",
    "## the data type specified and outputs an array of complex numbers.\n",
    "# ===================================================================================\n",
    "/\n",
    "\n",
    "# Create a multi-dimensional array\n",
    "complex_array = np.array([1, 2, 5, 6, 8, 9], dtype=complex)\n",
    "complex_array"
   ]
  },
  {
   "cell_type": "markdown",
   "id": "687eebbf-446d-4d39-9140-c2b23233c4ba",
   "metadata": {},
   "source": [
    ">**NOTE:** np.array() function will default to the data type of the object.\n",
    ">>To create an array of complex numbers, the data type must be defined using \"dtype\""
   ]
  },
  {
   "cell_type": "markdown",
   "id": "c9353f26-32ed-4b9d-9964-e0d8d2ee4452",
   "metadata": {},
   "source": [
    "# 7. **Arrays**: Defining, Indexing/Slicing, and Reversing Arrays"
   ]
  },
  {
   "cell_type": "markdown",
   "id": "54b17596-1ef2-45c2-b419-5b030eb47536",
   "metadata": {},
   "source": [
    "<font color=DeepPink>Define an array containing the numbers $(0, 1, 2, . . .)$ and so on **up to and including** $8$."
   ]
  },
  {
   "cell_type": "code",
   "execution_count": 13,
   "id": "8a4c8695-0006-4cb5-a1f8-3edd67e58f19",
   "metadata": {},
   "outputs": [
    {
     "data": {
      "text/plain": [
       "array([0, 1, 2, 3, 4, 5, 6, 7, 8])"
      ]
     },
     "execution_count": 13,
     "metadata": {},
     "output_type": "execute_result"
    }
   ],
   "source": [
    "# Define a one-dimensional array of numbers 0 - 8\n",
    "q7_array = np.arange(9)\n",
    "q7_array"
   ]
  },
  {
   "cell_type": "markdown",
   "id": "cee17fd5-66da-44b8-8939-ccd16bc57114",
   "metadata": {},
   "source": [
    "> <font color=DeepPink>Select a part of the array from indexes $3$ to $7$, which extract the elements of the arrays $3$ through $6$."
   ]
  },
  {
   "cell_type": "code",
   "execution_count": 14,
   "id": "248ce36f-07d9-447f-accc-38dcd7d533de",
   "metadata": {},
   "outputs": [
    {
     "data": {
      "text/plain": [
       "array([3, 4, 5, 6])"
      ]
     },
     "execution_count": 14,
     "metadata": {},
     "output_type": "execute_result"
    }
   ],
   "source": [
    "# Slice the array from indexes 3 to 7\n",
    "q7_array[3:7]  # Provide element range"
   ]
  },
  {
   "cell_type": "markdown",
   "id": "31886316-897d-45c5-869f-dbb744a43d64",
   "metadata": {},
   "source": [
    ">> <font color=DeepPink>Choose elements from an index of $0$ to $7$ with an increment of $2$."
   ]
  },
  {
   "cell_type": "code",
   "execution_count": 15,
   "id": "7a50b277-e296-4d4a-a41d-1ca55e3255b3",
   "metadata": {},
   "outputs": [
    {
     "data": {
      "text/plain": [
       "array([0, 2, 4, 6])"
      ]
     },
     "execution_count": 15,
     "metadata": {},
     "output_type": "execute_result"
    }
   ],
   "source": [
    "# Slice again but this time, select by increments of 2\n",
    "## aka every second element starting at and including 0\n",
    "q7_array[:7:2]  # Python assumes the element range is 0-7; \":2\" defines increments"
   ]
  },
  {
   "cell_type": "markdown",
   "id": "12eadb39-a735-4e55-9da5-9783bfb37980",
   "metadata": {},
   "source": [
    ">>> <font color=DeepPink>Reverse the array."
   ]
  },
  {
   "cell_type": "code",
   "execution_count": 29,
   "id": "79a38300-980f-404a-95ef-80553cf10bda",
   "metadata": {},
   "outputs": [
    {
     "data": {
      "text/plain": [
       "array([8, 7, 6, 5, 4, 3, 2, 1, 0])"
      ]
     },
     "execution_count": 29,
     "metadata": {},
     "output_type": "execute_result"
    }
   ],
   "source": [
    "# Reverse the array\n",
    "q7_array[::-1]"
   ]
  },
  {
   "cell_type": "markdown",
   "id": "8819fa29-87a0-4204-ba8e-7c5cf17e09f7",
   "metadata": {},
   "source": [
    "> **REMEMBER:** Using negative indices tells Python to work backwards (reverse)"
   ]
  },
  {
   "cell_type": "markdown",
   "id": "85c9bde8-8f2b-479d-b7c0-e6e3f58cb2ff",
   "metadata": {},
   "source": [
    "# 8. **Arrays**: Manipulating Array Shapes using Functions"
   ]
  },
  {
   "cell_type": "markdown",
   "id": "724b8142-0d2c-49df-a041-774b3f26d3a0",
   "metadata": {},
   "source": [
    "<font color=DeepPink>Starting on **p. 34** of your text, create an array and perform the following functions:<br>- Ravel<br>- Flatten<br>- Setting the shape with a tuple<br>- Transpose<br>- Resize"
   ]
  },
  {
   "cell_type": "code",
   "execution_count": 28,
   "id": "e2935a7a-9cc5-4bcd-a4ed-c05419ce6ec5",
   "metadata": {},
   "outputs": [
    {
     "name": "stdout",
     "output_type": "stream",
     "text": [
      "[[[ 0  1  2  3]\n",
      "  [ 4  5  6  7]\n",
      "  [ 8  9 10 11]]\n",
      "\n",
      " [[12 13 14 15]\n",
      "  [16 17 18 19]\n",
      "  [20 21 22 23]]]\n"
     ]
    }
   ],
   "source": [
    "# Define a multi-dimensional array to practice functions on\n",
    "## Range of values is 0-23; reshape into 2 new arrays with 3 rows and 4 columns\n",
    "q8_array = np.arange(24).reshape(2,3,4)\n",
    "print(q8_array)"
   ]
  },
  {
   "cell_type": "markdown",
   "id": "81a7cdd1-affe-414f-863f-1e1f643a35ee",
   "metadata": {},
   "source": [
    "> **NOTE:** reshape() only allows us to view the reshaped array and does not store this version in memory (unlike using the shape() and resize() functions)"
   ]
  },
  {
   "cell_type": "code",
   "execution_count": 30,
   "id": "c2e8e48d-be49-472f-8fc3-c560bbd34757",
   "metadata": {},
   "outputs": [
    {
     "data": {
      "text/plain": [
       "array([ 0,  1,  2,  3,  4,  5,  6,  7,  8,  9, 10, 11, 12, 13, 14, 15, 16,\n",
       "       17, 18, 19, 20, 21, 22, 23])"
      ]
     },
     "execution_count": 30,
     "metadata": {},
     "output_type": "execute_result"
    }
   ],
   "source": [
    "# Ravel - Use ravel()\n",
    "q8_array.ravel()"
   ]
  },
  {
   "cell_type": "markdown",
   "id": "726bb742-fa1d-4e79-9185-ab82123ee7a8",
   "metadata": {},
   "source": [
    ">**NOTE:** Manipulates in two ways: <br>- The two arrays are adjoined into one<br>- The multi-dimensional arrays are 'flattened' into a one-dimensional array"
   ]
  },
  {
   "cell_type": "code",
   "execution_count": 31,
   "id": "2c0cea46-31d3-42d9-882e-d0939f463d84",
   "metadata": {},
   "outputs": [
    {
     "data": {
      "text/plain": [
       "array([ 0,  1,  2,  3,  4,  5,  6,  7,  8,  9, 10, 11, 12, 13, 14, 15, 16,\n",
       "       17, 18, 19, 20, 21, 22, 23])"
      ]
     },
     "execution_count": 31,
     "metadata": {},
     "output_type": "execute_result"
    }
   ],
   "source": [
    "# Flatten - Use flatten()\n",
    "q8_array.flatten()"
   ]
  },
  {
   "cell_type": "markdown",
   "id": "f0c70d3d-b5fa-449a-889f-f05dbd9e5a15",
   "metadata": {},
   "source": [
    ">**NOTE:** This output looks exactly the same as the one output using ravel()\n",
    ">>However, the flatten() function causes Python to store this new array in memory"
   ]
  },
  {
   "cell_type": "code",
   "execution_count": 32,
   "id": "4106d480-f975-4a7a-8016-f8158eb2aec6",
   "metadata": {},
   "outputs": [
    {
     "data": {
      "text/plain": [
       "array([[ 0,  1,  2,  3],\n",
       "       [ 4,  5,  6,  7],\n",
       "       [ 8,  9, 10, 11],\n",
       "       [12, 13, 14, 15],\n",
       "       [16, 17, 18, 19],\n",
       "       [20, 21, 22, 23]])"
      ]
     },
     "execution_count": 32,
     "metadata": {},
     "output_type": "execute_result"
    }
   ],
   "source": [
    "# Setting the shape with a tuple\n",
    "q8_array.shape = (6,4)  # New shape is 6 rows x 4 columns\n",
    "q8_array"
   ]
  },
  {
   "cell_type": "markdown",
   "id": "e45391ec-6087-47b4-a77e-bb60f389ef65",
   "metadata": {},
   "source": [
    ">**NOTE:** shape() stores the manipulated array in memory\n",
    ">>This means that if we call the array again, this shape will output and not the original"
   ]
  },
  {
   "cell_type": "code",
   "execution_count": 33,
   "id": "45ce5e6e-3572-4c8d-9482-16990031f2bf",
   "metadata": {},
   "outputs": [
    {
     "data": {
      "text/plain": [
       "array([[ 0,  4,  8, 12, 16, 20],\n",
       "       [ 1,  5,  9, 13, 17, 21],\n",
       "       [ 2,  6, 10, 14, 18, 22],\n",
       "       [ 3,  7, 11, 15, 19, 23]])"
      ]
     },
     "execution_count": 33,
     "metadata": {},
     "output_type": "execute_result"
    }
   ],
   "source": [
    "# Transpose - Use transpose()\n",
    "# RECALL: Transposition is a type of transformation from linear algebra\n",
    "q8_array.transpose()"
   ]
  },
  {
   "cell_type": "markdown",
   "id": "fd16d7ce-57c8-4927-b9e2-f34b7ed8185c",
   "metadata": {},
   "source": [
    ">**NOTE:** Transposition transformation:\n",
    ">>The rows become the columns and the columns become the rows"
   ]
  },
  {
   "cell_type": "code",
   "execution_count": 34,
   "id": "5606d0d1-1879-4a55-b531-878a18f8b8a2",
   "metadata": {},
   "outputs": [
    {
     "data": {
      "text/plain": [
       "array([[ 0,  1,  2,  3,  4,  5,  6,  7,  8,  9, 10, 11],\n",
       "       [12, 13, 14, 15, 16, 17, 18, 19, 20, 21, 22, 23]])"
      ]
     },
     "execution_count": 34,
     "metadata": {},
     "output_type": "execute_result"
    }
   ],
   "source": [
    "# Resize - Use resize()\n",
    "q8_array.resize((2,12))\n",
    "q8_array"
   ]
  },
  {
   "cell_type": "markdown",
   "id": "43f093f4-3419-4493-b7f8-dc56ccb33c74",
   "metadata": {},
   "source": [
    ">**NOTE:** This method works similarly to reshape()\n",
    ">>However, this function causese Python to store the resized array in memory. Which means that if we call the array again, this shape will output."
   ]
  },
  {
   "cell_type": "markdown",
   "id": "5ed61ace-1741-4f18-a494-d4b5ee4952dd",
   "metadata": {},
   "source": [
    "# 9. **Arrays**: Finding Properties of Arrays"
   ]
  },
  {
   "cell_type": "markdown",
   "id": "93de6ebe-f703-47cb-96b5-5f668f3954f8",
   "metadata": {},
   "source": [
    "<font color=DeepPink>Starting on **p. 41** of your text, create an array and find the following properties:<br>- Number of dimensions<br>- Count of elements<br>- Count of bytes<br>- Full count of bytes</font>"
   ]
  },
  {
   "cell_type": "code",
   "execution_count": 23,
   "id": "97b59deb-ccf7-4694-826d-6862dcf13f98",
   "metadata": {},
   "outputs": [
    {
     "name": "stdout",
     "output_type": "stream",
     "text": [
      "[[ 0  1  2  3  4  5  6  7  8  9 10 11]\n",
      " [12 13 14 15 16 17 18 19 20 21 22 23]]\n"
     ]
    }
   ],
   "source": [
    "# Define a multi-dimensional array to practice functions on\n",
    "## Range of values is 0-23; reshape into an array with 2 rows and 12 columns\n",
    "q9_array = np.arange(24).reshape(2, 12)\n",
    "print(q9_array)"
   ]
  },
  {
   "cell_type": "code",
   "execution_count": 24,
   "id": "69876a74-4bc0-4f72-9c78-da72edd550dd",
   "metadata": {},
   "outputs": [
    {
     "name": "stdout",
     "output_type": "stream",
     "text": [
      "Number of dimensions: 2\n",
      "Count of elements: 24\n",
      "Count of bytes: 4\n",
      "Full count of bytes: 96\n"
     ]
    }
   ],
   "source": [
    "# Find properties of the array\n",
    "print(f\"Number of dimensions: {q9_array.ndim}\")  # Find the number of dimensions\n",
    "print(f\"Count of elements: {q9_array.size}\")  # Find the count of elements\n",
    "print(f\"Count of bytes: {q9_array.itemsize}\")  # Find the count of bytes\n",
    "print(f\"Full count of bytes: {q9_array.nbytes}\")  # Find the full count of bytes"
   ]
  },
  {
   "cell_type": "markdown",
   "id": "ebbb1fe5-63d2-409c-bf07-15147bc86d73",
   "metadata": {},
   "source": [
    "# 10. **Arrays**: Converting Arrays to Python Lists"
   ]
  },
  {
   "cell_type": "markdown",
   "id": "a019d4d2-56f2-44bb-8393-f2c1232460d5",
   "metadata": {},
   "source": [
    "<font color=DeepPink>Starting on **p. 45** of your text, convert an array to a Python list"
   ]
  },
  {
   "cell_type": "code",
   "execution_count": 25,
   "id": "5a716b7e-4fb0-4f23-943a-3d0db0537d50",
   "metadata": {},
   "outputs": [
    {
     "data": {
      "text/plain": [
       "array([[0, 1, 2],\n",
       "       [0, 1, 2]])"
      ]
     },
     "execution_count": 25,
     "metadata": {},
     "output_type": "execute_result"
    }
   ],
   "source": [
    "# Define an array to convert into a list\n",
    "q10_array = np.array([np.arange(3), np.arange(3)])\n",
    "q10_array"
   ]
  },
  {
   "cell_type": "code",
   "execution_count": 26,
   "id": "a21d9dcf-da83-4422-9ac6-b5c881a6bf1f",
   "metadata": {},
   "outputs": [
    {
     "data": {
      "text/plain": [
       "[[0, 1, 2], [0, 1, 2]]"
      ]
     },
     "execution_count": 26,
     "metadata": {},
     "output_type": "execute_result"
    }
   ],
   "source": [
    "# Convert array to a Python list\n",
    "q10_array.tolist()"
   ]
  }
 ],
 "metadata": {
  "kernelspec": {
   "display_name": "Python 3 (ipykernel)",
   "language": "python",
   "name": "python3"
  },
  "language_info": {
   "codemirror_mode": {
    "name": "ipython",
    "version": 3
   },
   "file_extension": ".py",
   "mimetype": "text/x-python",
   "name": "python",
   "nbconvert_exporter": "python",
   "pygments_lexer": "ipython3",
   "version": "3.11.7"
  }
 },
 "nbformat": 4,
 "nbformat_minor": 5
}
