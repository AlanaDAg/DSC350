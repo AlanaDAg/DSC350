{
 "cells": [
  {
   "cell_type": "markdown",
   "id": "cab720b3-ac2b-400c-9505-27f954b5cd1b",
   "metadata": {},
   "source": [
    "# <center> DSC 350 - Week 1 - Exercise 1\n",
    "## Alana D'Agostino\n",
    "### Professor Kinney"
   ]
  },
  {
   "cell_type": "markdown",
   "id": "0ca37616-e51e-4687-a624-88ccf79ac0ad",
   "metadata": {},
   "source": [
    "# Practicing Code Attribution"
   ]
  },
  {
   "cell_type": "code",
   "execution_count": 11,
   "id": "5bbcf858-13d0-41d9-8016-43c197854e60",
   "metadata": {},
   "outputs": [
    {
     "data": {
      "text/plain": [
       "()"
      ]
     },
     "execution_count": 11,
     "metadata": {},
     "output_type": "execute_result"
    }
   ],
   "source": [
    "/\n",
    "# ===================================================================================\n",
    "# Title: DSC 350 - Week 1 - Exercise 1\n",
    "# Author: Alana D'Agostino\n",
    "# Date: 17 March 2024\n",
    "# Modified By: ???\n",
    "# Description: This program is reviewing basic Python functionalities, \n",
    "## practices using Jupyter Notebook and explores JupyterLab, \n",
    "### and then demonstrates how to calculate summary statistics in Python.\n",
    "# ===================================================================================\n",
    "/"
   ]
  },
  {
   "cell_type": "markdown",
   "id": "950b4166-d004-40d1-ab96-d9899f1bea45",
   "metadata": {},
   "source": [
    "# Refresher Tasks: Python"
   ]
  },
  {
   "cell_type": "code",
   "execution_count": 2,
   "id": "b499f8f7-636f-4398-b24c-834df854f3ee",
   "metadata": {},
   "outputs": [
    {
     "name": "stdout",
     "output_type": "stream",
     "text": [
      "Hello World! I wonder why that is always the default coding text to start with\n"
     ]
    }
   ],
   "source": [
    "# Display the text given\n",
    "print(\"Hello World! I wonder why that is always the default coding text to start with\")"
   ]
  },
  {
   "cell_type": "code",
   "execution_count": 3,
   "id": "7eb8a587-99dc-495a-9b2e-c1a8e6190f77",
   "metadata": {},
   "outputs": [
    {
     "data": {
      "text/plain": [
       "23"
      ]
     },
     "execution_count": 3,
     "metadata": {},
     "output_type": "execute_result"
    }
   ],
   "source": [
    "# Add two numbers together\n",
    "8+15"
   ]
  },
  {
   "cell_type": "code",
   "execution_count": 4,
   "id": "3aefba78-d240-4fdb-b4a9-576a60ceb189",
   "metadata": {},
   "outputs": [
    {
     "data": {
      "text/plain": [
       "21"
      ]
     },
     "execution_count": 4,
     "metadata": {},
     "output_type": "execute_result"
    }
   ],
   "source": [
    "# Subtract a number from another number\n",
    "48-27"
   ]
  },
  {
   "cell_type": "code",
   "execution_count": 5,
   "id": "bb706f6c-7612-482e-9073-33182c3b8364",
   "metadata": {},
   "outputs": [
    {
     "data": {
      "text/plain": [
       "54"
      ]
     },
     "execution_count": 5,
     "metadata": {},
     "output_type": "execute_result"
    }
   ],
   "source": [
    "# Multiply two numbers\n",
    "6*9"
   ]
  },
  {
   "cell_type": "code",
   "execution_count": 6,
   "id": "6d18a30f-7811-4045-90e3-30271ea683e2",
   "metadata": {},
   "outputs": [
    {
     "data": {
      "text/plain": [
       "30.0"
      ]
     },
     "execution_count": 6,
     "metadata": {},
     "output_type": "execute_result"
    }
   ],
   "source": [
    "# Divide between two numbers\n",
    "60/2"
   ]
  },
  {
   "cell_type": "code",
   "execution_count": 12,
   "id": "071ef311-9bed-4500-bf21-f45a52a2b1c6",
   "metadata": {},
   "outputs": [
    {
     "name": "stdout",
     "output_type": "stream",
     "text": [
      "String num one String num two\n"
     ]
    }
   ],
   "source": [
    "# Concatenate two strings together\n",
    "first_string = 'String num one'\n",
    "second_string = 'String num two'\n",
    "concat_strings = first_string + ' ' + second_string\n",
    "print(concat_strings)"
   ]
  },
  {
   "cell_type": "code",
   "execution_count": 14,
   "id": "2bb7ce54-e3d4-4a22-8e32-4a556b13feb6",
   "metadata": {},
   "outputs": [
    {
     "data": {
      "text/plain": [
       "['14', '8', '36', '94']"
      ]
     },
     "execution_count": 14,
     "metadata": {},
     "output_type": "execute_result"
    }
   ],
   "source": [
    "# Create a list of 4 items (can be strings, numbers, both)\n",
    "list_example = ['14', '8', '36', '94']\n",
    "list_example"
   ]
  },
  {
   "cell_type": "code",
   "execution_count": 15,
   "id": "60427a5b-72b7-4a6a-819f-38af2489ff9d",
   "metadata": {},
   "outputs": [
    {
     "data": {
      "text/plain": [
       "['14', '8', '36', '94', '74']"
      ]
     },
     "execution_count": 15,
     "metadata": {},
     "output_type": "execute_result"
    }
   ],
   "source": [
    "# Append an item to your list (can be a string, number)\n",
    "list_example.append('74')\n",
    "list_example"
   ]
  },
  {
   "cell_type": "code",
   "execution_count": 17,
   "id": "655b1125-c744-48d1-881e-495775753405",
   "metadata": {},
   "outputs": [
    {
     "data": {
      "text/plain": [
       "(55, 'item_2', 120, 'item_4')"
      ]
     },
     "execution_count": 17,
     "metadata": {},
     "output_type": "execute_result"
    }
   ],
   "source": [
    "# Create a tuple with 4 items (can be strings, numbers, both)\n",
    "tuple_example = (55, 'item_2', 120, 'item_4')\n",
    "tuple_example"
   ]
  },
  {
   "cell_type": "markdown",
   "id": "db997dc0-e4af-4d68-85e5-47d2b6130ee5",
   "metadata": {},
   "source": [
    "# Hands-On Data Analysis with Pandas (2nd Edition)\n",
    "## Exercise pg. 44, 1-8"
   ]
  },
  {
   "cell_type": "markdown",
   "id": "94792150-5a39-4264-9830-ca09afaf4285",
   "metadata": {},
   "source": [
    "> 1. Explore the JupyterLab interface and look at some of the shortcuts that are available."
   ]
  },
  {
   "cell_type": "code",
   "execution_count": 3,
   "id": "9873b884-5bef-4a53-b377-982f758fccc2",
   "metadata": {},
   "outputs": [
    {
     "name": "stdout",
     "output_type": "stream",
     "text": [
      "Some of the more basic shortcuts available are: \n",
      "- 'Enter' to begin editing a cell\n",
      "- 'esc' and 'M' simultaneously to switch to Markdown mode\n",
      "- 'esc' and 'Y' simultaneously to switch back to Code mode\n",
      "- 'ctrl' and 'C' simultaneously to copy cell contents\n",
      "- 'ctrl' and 'V' simultaneously to paste cell contents\n",
      "- 'ctrl' and 'X' simultaneously to cut cell contents\n",
      "- 'ctrl' and 'B' to insert a new cell below\n",
      "- 'ctrl' and 'A' to insert a new cell above\n",
      "- 'shift' and 'enter' simultaneously to run the cell\n",
      "- 'ctrl' and 'S' simultaneously to save Notebook\n"
     ]
    }
   ],
   "source": [
    "print(\"Some of the more basic shortcuts available are: \" +\n",
    "      \"\\n- 'Enter' to begin editing a cell\" + \n",
    "      \"\\n- 'esc' and 'M' simultaneously to switch to Markdown mode\" + \n",
    "      \"\\n- 'esc' and 'Y' simultaneously to switch back to Code mode\" +\n",
    "      \"\\n- 'ctrl' and 'C' simultaneously to copy cell contents\" +\n",
    "      \"\\n- 'ctrl' and 'V' simultaneously to paste cell contents\" +\n",
    "      \"\\n- 'ctrl' and 'X' simultaneously to cut cell contents\" +\n",
    "      \"\\n- 'ctrl' and 'B' to insert a new cell below\" +\n",
    "      \"\\n- 'ctrl' and 'A' to insert a new cell above\" +\n",
    "      \"\\n- 'shift' and 'enter' simultaneously to run the cell\" +\n",
    "      \"\\n- 'ctrl' and 'S' simultaneously to save Notebook\")"
   ]
  },
  {
   "cell_type": "markdown",
   "id": "2c61cd26-76f5-4742-afa8-36b28b801e1f",
   "metadata": {},
   "source": [
    "> 2. Is all data normally distributed?\n",
    ">> Explain why or why not."
   ]
  },
  {
   "cell_type": "code",
   "execution_count": 16,
   "id": "ee92ab20-ba41-445c-abbb-8bb19aadfc89",
   "metadata": {},
   "outputs": [
    {
     "name": "stdout",
     "output_type": "stream",
     "text": [
      "\tNo, not all data are normally distributed. Distributions can be negative (left) skewed or positive (right) skewed. Some other common distributions are Poisson, exponential, uniform, Bernoulli and binomial. \n",
      "\tAlthough normal distributions do occur, not all data are normally  distributed. This is because data are obtained from real-life instances, where many variations and variables exist. So, there are many non-normal distributions to account for many types of use-cases.\n"
     ]
    }
   ],
   "source": [
    "print(\"\\tNo, not all data are normally distributed. Distributions can be \" +\n",
    "      \"negative (left) skewed or positive (right) skewed. Some other common \" +\n",
    "      \"distributions are Poisson, exponential, uniform, Bernoulli and binomial. \" +\n",
    "      \"\\n\\tAlthough normal distributions do occur, not all data are normally \" +\n",
    "      \" distributed. This is because data are obtained from real-life instances, \" +\n",
    "      \"where many variations and variables exist. So, there are many non-normal \" + \n",
    "      \"distributions to account for many types of use-cases.\")"
   ]
  },
  {
   "cell_type": "markdown",
   "id": "a5201a64-0206-4043-ad83-7e5c707dc00f",
   "metadata": {},
   "source": [
    "> 3. When would it make more sense to use the median instead of the mean for the measure of center?"
   ]
  },
  {
   "cell_type": "code",
   "execution_count": 14,
   "id": "c1084471-5ec6-43a1-a16e-5ce3da7388ed",
   "metadata": {},
   "outputs": [
    {
     "name": "stdout",
     "output_type": "stream",
     "text": [
      "\tIt makes more sense to use the median instead of the mean as a measure of center when the data is not normally distributed/skewed. This makes more sense because the median is much less affected by outliers compared to the mean. Using the median for a skewed dataset will give the  50th percentile, and thus, a more accurate measure of center\n"
     ]
    }
   ],
   "source": [
    "print(\"\\tIt makes more sense to use the median instead of the mean as a measure \" +\n",
    "      \"of center when the data is not normally distributed/skewed. \" +\n",
    "      \"This makes more sense because the median is much less affected by outliers \" +\n",
    "      \"compared to the mean. Using the median for a skewed dataset will give the \" +\n",
    "      \" 50th percentile, and thus, a more accurate measure of center\")"
   ]
  },
  {
   "cell_type": "markdown",
   "id": "33b8c09d-aea6-4b95-9380-45158080cb9b",
   "metadata": {},
   "source": [
    "> 4. Run the code in the first cell of the exercises.ipynb notebook.\n",
    ">> It will give you a list of 100 values to work with for the rest of the exercises in this chapter.\n",
    ">>> Be sure to treat these values as a sample of the population."
   ]
  },
  {
   "cell_type": "code",
   "execution_count": 9,
   "id": "b437c549-c625-4c9e-994b-1a1558dbb49e",
   "metadata": {},
   "outputs": [],
   "source": [
    "# =====================================================================================\n",
    "# Title: Hands-On-Data-Analysis-with-Pandas-2nd-edition / ch_01 / exercises.ipynb\n",
    "# Author: Stefanie Molin\n",
    "# Date: April 2021\n",
    "# Modified by: Alana D'Agostino\n",
    "# Description: A program that generates a list of 100 random values. This list is then\n",
    "## used to calculate several descriptive statistical values (both manually and by\n",
    "## using the _statistics_ module.\n",
    "# =====================================================================================\n",
    "\n",
    "import random\n",
    "\n",
    "random.seed(0)\n",
    "salaries = [round(random.random()*1000000, -3) for _ in range(100)]"
   ]
  },
  {
   "cell_type": "markdown",
   "id": "5ebbbd4b-fc5e-4f18-a5a1-bd17a74e994a",
   "metadata": {},
   "source": [
    "> 5. Using the data from _exercise 4_, calculate the following statistics without importing anyting from the **statistics** module in the standard library.\n",
    ">> And then confirm your results match up to those that are obtained when using the **statistics** module (where possible):"
   ]
  },
  {
   "cell_type": "markdown",
   "id": "744e0658-05d0-4097-a69c-528756f33738",
   "metadata": {},
   "source": [
    "# Mean"
   ]
  },
  {
   "cell_type": "code",
   "execution_count": 45,
   "id": "b70eee74-33a8-4617-862e-a385687d9daf",
   "metadata": {},
   "outputs": [
    {
     "name": "stdout",
     "output_type": "stream",
     "text": [
      "The mean of the salaries is: \n",
      "$585690.0\n",
      "The mean of the salaries is: \n",
      "$585690.0\n",
      "True\n"
     ]
    }
   ],
   "source": [
    "## Calculate WITHOUT statistics module\n",
    "salaries_mean = sum(salaries) / 100\n",
    "print(f\"The mean of the salaries is: \\n${salaries_mean}\")\n",
    "\n",
    "## Calculate using statistics module\n",
    "# Import library & calculate\n",
    "from statistics import mean\n",
    "print(f\"The mean of the salaries is: \\n${mean(salaries)}\")\n",
    "\n",
    "# Verify both values are equal using Python\n",
    "print(salaries_mean == mean(salaries))"
   ]
  },
  {
   "cell_type": "markdown",
   "id": "db3d6b8a-3e39-443d-a1ac-61806dca48a0",
   "metadata": {},
   "source": [
    "# Median"
   ]
  },
  {
   "cell_type": "code",
   "execution_count": 46,
   "id": "a20263ba-3945-47c8-ab0e-bafbb1274be3",
   "metadata": {},
   "outputs": [
    {
     "name": "stdout",
     "output_type": "stream",
     "text": [
      "The median salary is: \n",
      "$589000.0\n",
      "The median salary is: \n",
      "$589000.0\n"
     ]
    }
   ],
   "source": [
    "# Calculate WITHOUT statistics module\n",
    "\n",
    "# ======================================================================================\n",
    "# Title: \"Finding Mean, Median, Mode in Python without libraries\"\n",
    "# Author: GeeksforGeeks\n",
    "# Date: 28 January 2024\n",
    "# Modified By: Alana D'Agostino\n",
    "# Description: This program calculates the mean, median, and mode of a list of values,\n",
    "## in Python without importing/using libraries or modules.\n",
    "# =====================================================================================\n",
    "\n",
    "# Sort the salaries list and define n object as the length of the list\n",
    "salaries.sort()\n",
    "n = len(salaries)\n",
    "\n",
    "#\n",
    "if n % 2 == 0:\n",
    "    upper_median = salaries[n//2]\n",
    "    lower_median = salaries[n//2 - 1]\n",
    "    median = (upper_median + lower_median)/2\n",
    "else:\n",
    "    median = salaries[n//2]\n",
    "print(f\"The median salary is: \\n${median}\")\n",
    "\n",
    "## Calculate using statistics module\n",
    "\n",
    "# Import library & calculate\n",
    "from statistics import median\n",
    "print(f\"The median salary is: \\n${median(salaries)}\")"
   ]
  },
  {
   "cell_type": "markdown",
   "id": "0bf959e4-85a4-446a-aa4e-db6886b18fea",
   "metadata": {},
   "source": [
    "# Mode"
   ]
  },
  {
   "cell_type": "code",
   "execution_count": 54,
   "id": "158d807f-e2ce-41fa-b4e7-a0fd4e24911e",
   "metadata": {},
   "outputs": [
    {
     "name": "stdout",
     "output_type": "stream",
     "text": [
      "The mode salary is: \n",
      "$477000.0\n",
      "The mode of the salaries is: \n",
      "$477000.0\n"
     ]
    }
   ],
   "source": [
    "## Calculate WITHOUT statistics module\n",
    "\n",
    "# ======================================================================================\n",
    "# Title: \"Finding Mean, Median, Mode in Python without libraries\"\n",
    "# Author: GeeksforGeeks\n",
    "# Date: 28 January 2024\n",
    "# Modified By: Alana D'Agostino\n",
    "# Description: This program calculates the mean, median, and mode of a list of values,\n",
    "## in Python without importing/using libraries or modules.\n",
    "# =====================================================================================\n",
    "\n",
    "# Using the Counter class and an if-else statement to calculate the mode\n",
    "from collections import Counter\n",
    "\n",
    "n = len(salaries)\n",
    "\n",
    "numbers = Counter(salaries)\n",
    "find_mode = dict(numbers)\n",
    "# Function that identifies the most repeated value in the dictionary of numbers\n",
    "mode = [k for k, v in find_mode.items() if v == max(list(numbers.values()))]\n",
    "\n",
    "# if-else statement used in case there are no repeated values in the dictionary\n",
    "if len(mode) == n:\n",
    "    find_mode = \"Mode not applicable.\"\n",
    "else:\n",
    "    find_mode = \"The mode salary is: \\n$\" + ', '.join(map(str, mode))\n",
    "\n",
    "print(find_mode)\n",
    "\n",
    "## Calculate using statistics module\n",
    "\n",
    "# Import library & calculate\n",
    "from statistics import mode\n",
    "print(f\"The mode of the salaries is: \\n${mode(salaries)}\")"
   ]
  },
  {
   "cell_type": "markdown",
   "id": "0a7eb21f-7803-43ba-9c45-146e66ad77c4",
   "metadata": {},
   "source": [
    "# Variance"
   ]
  },
  {
   "cell_type": "code",
   "execution_count": 75,
   "id": "27055181-31fc-49ba-9b4e-00138472cad2",
   "metadata": {},
   "outputs": [
    {
     "name": "stdout",
     "output_type": "stream",
     "text": [
      "The salary variance is \n",
      "70664054444.44444\n",
      "The salary variance is: \n",
      "70664054444.44444\n"
     ]
    }
   ],
   "source": [
    "## Calculate WITHOUT statistics module\n",
    "\n",
    "# ======================================================================================\n",
    "# Title: \"Python | Variance of list\"\n",
    "# Author: GeeksforGeeks\n",
    "# Date: 17 April 2023\n",
    "# Modified By: Alana D'Agostino\n",
    "# Description: This program calculates the variance of a list without importing\n",
    "## and using the _statistics_ package.\n",
    "# =====================================================================================\n",
    "\n",
    "# Calculate the variance using NumPy\n",
    "import numpy as np\n",
    "\n",
    "# Ensure that ddof is equal to 1 instead of the default 0 (Bessel's Correction)\n",
    "variance = np.var(salaries, ddof=1)\n",
    "print(f\"The salary variance is \\n{variance}\")\n",
    "\n",
    "## Calculate using statistics module\n",
    "\n",
    "# Import library & calculate\n",
    "from statistics import variance\n",
    "print(f\"The salary variance is: \\n{variance(salaries)}\")"
   ]
  },
  {
   "cell_type": "markdown",
   "id": "24e02168-16bb-4f21-81ca-c4fcdc2c7736",
   "metadata": {},
   "source": [
    "# Standard Deviation"
   ]
  },
  {
   "cell_type": "code",
   "execution_count": 76,
   "id": "62d4d15c-e7c4-4e8c-a0a0-66cde434e124",
   "metadata": {},
   "outputs": [
    {
     "name": "stdout",
     "output_type": "stream",
     "text": [
      "The standard deviation is: \n",
      "265827.11382484\n",
      "The standard deviation is: \n",
      "265827.11382484\n"
     ]
    }
   ],
   "source": [
    "## Calculate WITHOUT statistics module\n",
    "\n",
    "# ======================================================================================\n",
    "# Title: \"Python | Standard deviation of list\"\n",
    "# Author: GeeksforGeeks\n",
    "# Date: 28 January 2024\n",
    "# Modified By: Alana D'Agostino\n",
    "# Description: This program calculates the standard deviation of a list without importing\n",
    "## or using any Python packages.\n",
    "# =====================================================================================\n",
    "\n",
    "# Calculate the standard deviation using NumPy\n",
    "import numpy as np\n",
    "\n",
    "# Again, ensure that ddof is equal to 1 instead of the default 0 (Bessel's Correction)\n",
    "st_dev = np.std(salaries, ddof=1)\n",
    "print(f\"The standard deviation is: \\n{st_dev}\")\n",
    "\n",
    "## Calculate using statistics module\n",
    "\n",
    "# Import library & calculate\n",
    "from statistics import stdev\n",
    "print(f\"The standard deviation is: \\n{stdev(salaries)}\")"
   ]
  },
  {
   "cell_type": "markdown",
   "id": "786f93d9-bb8c-4327-b2fa-55f598d47b24",
   "metadata": {},
   "source": [
    "> 6. Using the data from _exercise 4_, calculate the following statistics using the functions in the **statistics** module where appropriate:"
   ]
  },
  {
   "cell_type": "markdown",
   "id": "668508a0-f685-4bb1-ac58-ef66035c5484",
   "metadata": {},
   "source": [
    "# Range"
   ]
  },
  {
   "cell_type": "code",
   "execution_count": 78,
   "id": "41c5c219-51b3-478e-af3c-c784b4d0f3ad",
   "metadata": {},
   "outputs": [
    {
     "name": "stdout",
     "output_type": "stream",
     "text": [
      "The range of the salaries is: \n",
      "$995000.0\n"
     ]
    }
   ],
   "source": [
    "## Formula for Range > range = max(X) - min(X)\n",
    "\n",
    "range = max(salaries) - min(salaries)\n",
    "print(f\"The range of the salaries is: \\n${range}\")"
   ]
  },
  {
   "cell_type": "markdown",
   "id": "dee48e23-e5f4-4788-a9de-c6510a773609",
   "metadata": {},
   "source": [
    "# Coefficient of variation"
   ]
  },
  {
   "cell_type": "code",
   "execution_count": 86,
   "id": "09859d97-409e-47a8-bc20-72361d656698",
   "metadata": {},
   "outputs": [
    {
     "name": "stdout",
     "output_type": "stream",
     "text": [
      "The Coefficient of Variation is: \n",
      "45.39%\n"
     ]
    }
   ],
   "source": [
    "# Remember: Formula for CoV is the (stdev / mean)\n",
    "# Import library & calculate\n",
    "from statistics import stdev, mean\n",
    "\n",
    "CoV = ((stdev(salaries) / mean(salaries)) * 100)\n",
    "print(f\"The Coefficient of Variation is: \\n{CoV:.2f}%\")"
   ]
  },
  {
   "cell_type": "markdown",
   "id": "1414ffe2-3abf-4cde-9d8e-5d6026fcad30",
   "metadata": {},
   "source": [
    "# Interquartile Range"
   ]
  },
  {
   "cell_type": "code",
   "execution_count": 93,
   "id": "028dbb35-442b-4edc-919b-2b3cf8a5e114",
   "metadata": {},
   "outputs": [
    {
     "name": "stdout",
     "output_type": "stream",
     "text": [
      "The Interquartile Range is: \n",
      "$421750.00\n"
     ]
    }
   ],
   "source": [
    "# Remember: Interquartile range is the lower median subtracted from\n",
    "## the upper median\n",
    "\n",
    "# Import library & calculate\n",
    "from statistics import quantiles\n",
    "Quars = quantiles(salaries, n=4)\n",
    "# Define parameters and set quartiles as objects\n",
    "Quar_1 = Quars[0]\n",
    "Quar_3 = Quars[2]\n",
    "\n",
    "IQR = Quar_3 - Quar_1\n",
    "print(f\"The Interquartile Range is: \\n${IQR:.2F}\")"
   ]
  },
  {
   "cell_type": "markdown",
   "id": "a360ca41-7596-434a-8082-4b01bbe6b5f4",
   "metadata": {},
   "source": [
    "# Quartile Coefficient of Dispersion"
   ]
  },
  {
   "cell_type": "code",
   "execution_count": 96,
   "id": "1aec4f02-0c03-4e8c-91b0-160c60b8d2f0",
   "metadata": {},
   "outputs": [
    {
     "name": "stdout",
     "output_type": "stream",
     "text": [
      "The Quartile Coefficient of Dispersion is: \n",
      "0.34\n"
     ]
    }
   ],
   "source": [
    "# Remember: QCD is half the IQR, then divided by the midhinge\n",
    "\n",
    "# Define the midhinge and QCD as objects & calculate\n",
    "## Use quartile objects defined above\n",
    "mdhinge = (Quar_1 + Quar_3) / 2\n",
    "QCD = ((IQR / 2) / mdhinge)\n",
    "print(f\"The Quartile Coefficient of Dispersion is: \\n{QCD:.2F}\")"
   ]
  },
  {
   "cell_type": "markdown",
   "id": "42de81b2-b6fe-47d5-b399-58dee1adebed",
   "metadata": {},
   "source": [
    "> 7. Scale the data created in _exercise 4_ using the following strategies:"
   ]
  },
  {
   "cell_type": "code",
   "execution_count": 101,
   "id": "d4246863-98e7-40b0-925f-d44aefa1f658",
   "metadata": {},
   "outputs": [
    {
     "name": "stdout",
     "output_type": "stream",
     "text": [
      "The scaled salaries are: \n",
      "[0.         0.01306533 0.07939698 0.08140704 0.08944724 0.10050251\n",
      " 0.10854271 0.18693467 0.18894472 0.19095477 0.23919598 0.24422111\n",
      " 0.25125628 0.25929648 0.26030151 0.27638191 0.28241206 0.29045226\n",
      " 0.30351759 0.31055276 0.32060302 0.32562814 0.38592965 0.3919598\n",
      " 0.4        0.40603015 0.42211055 0.43517588 0.44623116 0.44924623\n",
      " 0.45226131 0.47336683 0.47839196 0.47839196 0.47839196 0.48743719\n",
      " 0.49547739 0.50653266 0.50954774 0.51256281 0.54170854 0.54271357\n",
      " 0.54874372 0.55075377 0.55276382 0.56984925 0.57788945 0.58190955\n",
      " 0.58492462 0.58994975 0.5919598  0.59798995 0.60502513 0.61306533\n",
      " 0.61507538 0.61507538 0.6201005  0.65929648 0.66231156 0.67035176\n",
      " 0.68643216 0.70753769 0.70954774 0.72261307 0.73266332 0.75879397\n",
      " 0.76080402 0.76080402 0.78693467 0.7959799  0.80603015 0.8080402\n",
      " 0.81306533 0.81507538 0.81708543 0.8281407  0.84522613 0.84723618\n",
      " 0.85226131 0.86834171 0.87135678 0.87336683 0.88040201 0.89849246\n",
      " 0.90150754 0.90251256 0.90552764 0.91155779 0.91356784 0.91658291\n",
      " 0.92060302 0.92663317 0.92663317 0.93668342 0.95376884 0.9678392\n",
      " 0.97085427 0.9718593  0.98693467 1.        ]\n"
     ]
    }
   ],
   "source": [
    "# Use MinMaxScaler method from SciKit-Learn preprocessing and NumPy\n",
    "import numpy as np\n",
    "from sklearn.preprocessing import MinMaxScaler\n",
    "\n",
    "scaler = MinMaxScaler()\n",
    "salaries_scaled = (scaler.fit_transform(np.array(salaries).reshape(-1, 1))).flatten()\n",
    "\n",
    "print(f\"The scaled salaries are: \\n{salaries_scaled}\")"
   ]
  },
  {
   "cell_type": "code",
   "execution_count": 103,
   "id": "7d2a06f4-15ed-4df5-883e-e20efbd2ea3e",
   "metadata": {},
   "outputs": [
    {
     "name": "stdout",
     "output_type": "stream",
     "text": [
      "The standardized salaries are: \n",
      "[-2.21059301 -2.16144268 -1.91191021 -1.90434862 -1.87410226 -1.83251351\n",
      " -1.80226716 -1.50736515 -1.49980356 -1.49224197 -1.31076381 -1.29185983\n",
      " -1.26539427 -1.23514791 -1.23136711 -1.17087439 -1.14818962 -1.11794327\n",
      " -1.06879293 -1.04232737 -1.00451942 -0.98561544 -0.75876774 -0.73608297\n",
      " -0.70583661 -0.68315184 -0.62265912 -0.57350879 -0.53192004 -0.52057766\n",
      " -0.50923527 -0.42983858 -0.41093461 -0.41093461 -0.41093461 -0.37690745\n",
      " -0.34666109 -0.30507235 -0.29372996 -0.28238758 -0.17274452 -0.16896373\n",
      " -0.14627896 -0.13871737 -0.13115578 -0.06688226 -0.0366359  -0.02151272\n",
      " -0.01017034  0.00873364  0.01629523  0.03898     0.06544556  0.09569192\n",
      "  0.10325351  0.10325351  0.12215749  0.26960849  0.28095087  0.31119723\n",
      "  0.37168995  0.45108665  0.45864824  0.50779857  0.54560652  0.64390719\n",
      "  0.65146878  0.65146878  0.74976945  0.78379661  0.82160456  0.82916615\n",
      "  0.84807012  0.85563171  0.8631933   0.90478204  0.96905556  0.97661715\n",
      "  0.99552112  1.05601384  1.06735623  1.07491782  1.10138338  1.16943769\n",
      "  1.18078008  1.18456087  1.19590326  1.21858803  1.22614962  1.237492\n",
      "  1.25261518  1.27529995  1.27529995  1.3131079   1.37738142  1.43031255\n",
      "  1.44165493  1.44543573  1.50214765  1.55129798]\n"
     ]
    }
   ],
   "source": [
    "# Now use the StandardScaler method from SciKit-Learn\n",
    "from sklearn.preprocessing import StandardScaler\n",
    "\n",
    "scaler = StandardScaler()\n",
    "salaries_stndrdized = (scaler.fit_transform(np.array(salaries).reshape(-1, 1))).flatten()\n",
    "\n",
    "print(f\"The standardized salaries are: \\n{salaries_stndrdized}\")"
   ]
  },
  {
   "cell_type": "markdown",
   "id": "ea0a6f59-6e26-43b4-8f29-70103221d419",
   "metadata": {},
   "source": [
    "> 8. Using the scaled data from _exercise 7_, calculate the following:"
   ]
  },
  {
   "cell_type": "code",
   "execution_count": 111,
   "id": "fd6efe43-2068-47a1-97ab-cbefee8bc6e8",
   "metadata": {},
   "outputs": [
    {
     "name": "stdout",
     "output_type": "stream",
     "text": [
      "The Covariance between original salaries and normalized salaries is: \n",
      "[[7.06640544e+10 7.10191502e+04]\n",
      " [7.10191502e+04 7.13760303e-02]]\n",
      "The Covariance between original salaries and standardized salaries is: \n",
      "[[7.06640544e+10 2.67166302e+05]\n",
      " [2.67166302e+05 1.01010101e+00]]\n"
     ]
    }
   ],
   "source": [
    "# The covariance between the standardized and normalized data\n",
    "# NOTE statitics.covariance() returns the sample covariance of two inputs x and y\n",
    "# Use NumPy\n",
    "import numpy as np\n",
    "\n",
    "# Cov between original salaries and normalized salaries\n",
    "cov_salaries_scaled = np.cov(np.array(salaries), salaries_scaled)\n",
    "# Cov between original salaries and standardied salaries \n",
    "cov_salaries_stndrdized = np.cov(np.array(salaries), salaries_stndrdized)\n",
    "\n",
    "print(f\"The Covariance between original salaries and normalized salaries is: \\n{cov_salaries_scaled}\")\n",
    "print(f\"The Covariance between original salaries and standardized salaries is: \\n{cov_salaries_stndrdized}\")\n"
   ]
  },
  {
   "cell_type": "code",
   "execution_count": 113,
   "id": "f78ca813-a829-4f1a-ae5d-06331bf42132",
   "metadata": {},
   "outputs": [
    {
     "name": "stdout",
     "output_type": "stream",
     "text": [
      "The Pearson correlation coefficient between original salaries and scaled salaries is: \n",
      "1.0\n",
      "The Pearson correlation coefficient between original salaries and standardized salaries is: \n",
      "1.0\n"
     ]
    }
   ],
   "source": [
    "# The Pearson correlation coefficient between the standardized and normalized data\n",
    "## (this is actually 1, but due to rounding along the way, the result will be slightly less)\n",
    "# NOTE statistics.correlation() returns the Pearson's correlation coefficienimport numpy as np\n",
    "\n",
    "# Calculate Pearson correlation coefficient between original salaries and normalized salaries\n",
    "correl_salaries_scaled = np.corrcoef(np.array(salaries), salaries_scaled)[0, 1]\n",
    "\n",
    "# Calculate Pearson correlation coefficient between original salaries and standardied salaries \n",
    "correl_salaries_stndrdized = np.corrcoef(np.array(salaries), salaries_stndrdized)[0, 1]\n",
    "\n",
    "print(f\"The Pearson correlation coefficient between original salaries and scaled salaries is: \\n{correl_salaries_scaled}\")\n",
    "print(f\"The Pearson correlation coefficient between original salaries and standardized salaries is: \\n{correl_salaries_stndrdized}\")"
   ]
  },
  {
   "cell_type": "code",
   "execution_count": null,
   "id": "68cb5a05-a26f-4479-9ab6-8059d72a70ff",
   "metadata": {},
   "outputs": [],
   "source": []
  }
 ],
 "metadata": {
  "kernelspec": {
   "display_name": "Python 3 (ipykernel)",
   "language": "python",
   "name": "python3"
  },
  "language_info": {
   "codemirror_mode": {
    "name": "ipython",
    "version": 3
   },
   "file_extension": ".py",
   "mimetype": "text/x-python",
   "name": "python",
   "nbconvert_exporter": "python",
   "pygments_lexer": "ipython3",
   "version": "3.11.7"
  }
 },
 "nbformat": 4,
 "nbformat_minor": 5
}
