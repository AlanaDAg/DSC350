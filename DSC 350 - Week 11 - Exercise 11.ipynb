{
 "cells": [
  {
   "cell_type": "markdown",
   "id": "939de43f-7a82-420a-b6cf-70f0c093c542",
   "metadata": {},
   "source": [
    "<font size=6><center>DSC 350 - Week 11 - Exercise 11</center></font>\n",
    "<font size=5>Alana D'Agostino</font><br><font size=5>Professor Kinney</font>\n",
    "***\n",
    "<img style=\"float:left; width:100px\" src=\"https://github.githubassets.com/assets/GitHub-Mark-ea2971cee799.png\"><img style=\"float:right; width:100px\" src=\"https://github.githubassets.com/assets/GitHub-Mark-ea2971cee799.png\">\n",
    "\n",
    "***\n",
    "<center><font size=6><font color=#2dba4e><b>GitHub Resources</b></font></font></center>\n",
    "\n",
    "<font size=4><center>Textbook Reference: __[Python Data Analysis (2nd Ed.) - Ch. 8](https://github.com/AlanaDAg/Python-Data-Analysis-Second-Edition/tree/master/Chapter08)__ \n",
    "***"
   ]
  },
  {
   "cell_type": "code",
   "execution_count": null,
   "id": "d7d5016e-8267-41e5-af58-d0469bde784e",
   "metadata": {},
   "outputs": [],
   "source": [
    "# Code attribution\n",
    "/\n",
    "# ======================================================================+=============\n",
    "# Title: \"Python Data Analysis (Second Edition)\", Chapter 8\n",
    "# Author: Armando Fandango, 2017\n",
    "# Date: 26 May 2024\n",
    "# Modified By: Alana D'Agostino (DSC 350 - Week 11 - Exercise 11)\n",
    "# Description: Working with Databases. This program follows along with the exercises\n",
    "## outlined in Chapter 8 of \"Python Data Analysis (2nd Ed.).\" Practices accessing\n",
    "## the SQLite Database using sqlite3, using Pandas to access databases, \n",
    "## populating a database and querying a database with SQLAlchemy.\n",
    "# ====================================================================================\n",
    "/"
   ]
  },
  {
   "cell_type": "markdown",
   "id": "28b2ab01-adc1-4046-bdf7-dbaa6bfcf6c9",
   "metadata": {},
   "source": [
    "# <center><font color=blue>Chapter 8</font> <br><font color=mediumblue>**Working with Databases**\n",
    "\n",
    "***\n",
    "### <center><font color=#00ad43>**Complete the following exercises provided by Professor Kinney. <br> Use the content and examples from Chapter 8 of *Python Data Analysis* (Fandango, 2017) for reference.**\n",
    "\n",
    "***\n",
    "#### <center><font color=darkgreen>**Ch. 8, pp. 176-194**\n",
    "***"
   ]
  },
  {
   "cell_type": "markdown",
   "id": "9bbf1879-866f-469c-becc-be09ae1c0d5c",
   "metadata": {},
   "source": [
    "***\n",
    "# <font color=Blue>**1.**</font> **SQLite3:** <center> Accessing the SQLite Database\n",
    "\n",
    "<font color=Navy>First, <font color=DeepPink>**import**</font> `sqlite3`and <font color=DeepPink>**create**</font> a **cursor**,\n",
    "\n",
    "> <font color=Navy>Then perform the following steps:\n",
    "\n",
    "> > <font color=Navy>**a.** <font color=DeepPink>**Create** </font>the sensors table <s>(on pg. 180)</s> (should be pg. 177). <br>\n",
    "> > **b.** <font color=DeepPink>**Write a query** </font>to **confirm** your table was created and <font color=DeepPink>**print** </font>the results. <br>\n",
    "> > **c.** <font color=DeepPink>**Insert** </font>random data into the table you created and then <font color=DeepPink>**select**</font> all the results from the table (using **Select** *). <br>\n",
    "> > **d.** <font color=DeepPink>**Drop** </font>the table and **confirm** it has been dropped based on your previous query. <br>\n",
    "> > **e.** <font color=DeepPink>**Close** </font>your connection."
   ]
  },
  {
   "cell_type": "code",
   "execution_count": 33,
   "id": "ab5890c9-2ec3-4ee7-951c-e98e650f4d20",
   "metadata": {},
   "outputs": [
    {
     "name": "stdout",
     "output_type": "stream",
     "text": [
      "Table: sensors\n",
      "\n",
      " ('2016-11-05', 'Utrecht', 'Red', 42.0, 15.14)\n",
      "\n",
      "Number of tables: 0\n"
     ]
    }
   ],
   "source": [
    "###### 1. (pp. 177-179)\n",
    "\n",
    "# Import libraries: `sqlite3`\n",
    "import sqlite3\n",
    "\n",
    "# Establish connection to the database\n",
    "## Use `with` statement\n",
    "with sqlite3.connect(\":memory:\") as con:  # Keeps database in RAM (instead of a file)\n",
    "    c = con.cursor()  # Create the cursor\n",
    "    # a. Create Sensors table (p. 177)\n",
    "    ## Use c.execute() to pass a SQL string to the cursor\n",
    "    c.execute('''CREATE TABLE sensors (date text, city text, code text, '''\n",
    "              '''sensor_id real, temperature real)''')\n",
    "                # `text` and `real` are data types\n",
    "\n",
    "    # Access and print the metadata about user tables\n",
    "    ## b. Query and print results to confirm the table was created\n",
    "    for table in c.execute(\"SELECT name FROM sqlite_master WHERE type = 'table'\"):\n",
    "        print(\"Table:\", table[0])\n",
    "\n",
    "    # c. Insert random data into the table\n",
    "    c.execute(\"INSERT INTO sensors VALUES ('2016-11-05','Utrecht','Red',42,15.14)\")\n",
    "    # c. Select ALL the results from the table\n",
    "    c.execute(\"SELECT * FROM sensors\")\n",
    "    print(\"\\n\", c.fetchone())\n",
    "    \n",
    "    # d. Drop the table and Confirm using previous query\n",
    "    con.execute(\"DROP TABLE sensors\")\n",
    "    print(\"\\nNumber of tables:\", \n",
    "          c.execute(\"SELECT COUNT(*) FROM sqlite_master \"\n",
    "                    \"WHERE type = 'table'\").fetchone()[0])\n",
    "\n",
    "    # e. Close the database connection\n",
    "    c.close()  # Requirement: closing the cursor"
   ]
  },
  {
   "cell_type": "markdown",
   "id": "888518af-c753-4c9e-9df7-652da6682e53",
   "metadata": {},
   "source": [
    "### <font color=Blue>**1.**</font> **Notes:**\n",
    "> `sqlite3`:\n",
    "> * ``with`` statement is standard Python\n",
    ">   * When used with the ``__exit__()`` method to be used within a special ContextManager class, this method automatically (implicitly) closes the connnection to the database once .close() is called."
   ]
  },
  {
   "cell_type": "markdown",
   "id": "9af57bd9-9b85-4100-bf26-4a7df53b7d8b",
   "metadata": {},
   "source": [
    "### <font color=Blue>**1.**</font> **Sources:**\n",
    "\n",
    "> **In-Text:**\n",
    "* Ch. 8, pp. 176-179\n",
    "  * Section: *Lightweight access with sqlite3* \n",
    "\n",
    "> **Supplemental:**\n",
    "* W3Schools: __[SQL Tutorial](https://www.w3schools.com/sql/)__ <font color=slategray>(Accessed 2024, May)</font>\n",
    "  * Referenced in text on p. 177.\n",
    "* Python Docs: __[sqlite3 - DB-API 2.0 interface for SQLite databases](https://docs.python.org/3/library/sqlite3.html)__ <font color=slategray>(Accessed 2024, May)</font>\n",
    "* GeeksforGeeks: __[__exit__in Python](https://www.geeksforgeeks.org/__exit__-in-python/)__ <font color=slategray>(Last Updated: 2022, September 25)</font>"
   ]
  },
  {
   "cell_type": "markdown",
   "id": "1db0de42-df20-4a61-bc2e-4d77f68bc4b9",
   "metadata": {},
   "source": [
    "***\n",
    "# <font color=Blue>**2.**</font> **Pandas:** <center> Using Pandas to Access Databases\n",
    "\n",
    "<font color=Navy>First, <font color=DeepPink>**create**</font> a list of **tuples** to form the pandas Dataframe,\n",
    "\n",
    "> <font color=Navy>Then perform the following steps:</font>\n",
    "\n",
    "> > <font color=Navy>**a.**</font> <font color=DeepPink>**Create** <font color=Navy>a **table** without specifying data types. <br>\n",
    "> > <font color=Navy>**b.** <font color=DeepPink>**Insert**</font> <font color=Navy>**records** from a list of tuples. \n",
    "> > > <font color=Navy>**i.** <font color=DeepPink>**Insert** <font color=Navy>all the rows into the table and <font color=DeepPink>**show**</font> the row count. <br>\n",
    "> >\n",
    "> > <font color=Navy>**c.**</font> <font color=DeepPink>**Delete** <font color=Navy>the records where the **sunactivity is greater than 20**. <br>\n",
    "> > <font color=Navy>**d.**</font> <font color=DeepPink>**Write a query** <font color=Navy>to select all data where the **year is less than 1732**. <br>"
   ]
  },
  {
   "cell_type": "code",
   "execution_count": 44,
   "id": "138ac3fc-0a2b-4f36-af22-a3efd086885a",
   "metadata": {},
   "outputs": [
    {
     "name": "stdout",
     "output_type": "stream",
     "text": [
      "Row count: \n",
      " (309,) \n",
      "\n",
      "Number of rows Deleted: 217 \n",
      "\n",
      "      year  sunactivity\n",
      "0   1700.0          5.0\n",
      "1   1701.0         11.0\n",
      "2   1702.0         16.0\n",
      "3   1707.0         20.0\n",
      "4   1708.0         10.0\n",
      "5   1709.0          8.0\n",
      "6   1710.0          3.0\n",
      "7   1711.0          0.0\n",
      "8   1712.0          0.0\n",
      "9   1713.0          2.0\n",
      "10  1714.0         11.0\n",
      "11  1723.0         11.0\n"
     ]
    }
   ],
   "source": [
    "##### 2. (pp. 179-181)\n",
    "\n",
    "# Import libraries and packages\n",
    "import statsmodels.api as sm\n",
    "from pandas.io.sql import read_sql\n",
    "# import sqlite3\n",
    "\n",
    "# Establish connection to database in RAM\n",
    "with sqlite3.connect(\":memory:\") as con:\n",
    "    c = con.cursor()  # Create the cursor\n",
    "\n",
    "    # Load the statsmaodels sunactivity data (from Ch. 7)\n",
    "    data_loader = sm.datasets.sunspots.load_pandas()\n",
    "    df = data_loader.data\n",
    "    rows = [tuple(x) for x in df.values]\n",
    "\n",
    "    # a. Create a table (non-specified data types)\n",
    "    con.execute(\"CREATE TABLE sunspots(year, sunactivity)\")\n",
    "    # b. Insert records from the list of tuples\n",
    "    con.executemany(\"INSERT INTO sunspots(year, sunactivity) VALUES (?, ?)\", rows)\n",
    "    # b.i. Select all the rows in the table and insert them\n",
    "    c.execute(\"SELECT COUNT(*) FROM sunspots\")\n",
    "    # b.i. Show the row count\n",
    "    print(\"Row count: \\n\", c.fetchone(), \"\\n\")\n",
    "    \n",
    "    # c. Delete the records where sunactivity is greater than 20\n",
    "    print(\"Number of rows Deleted:\", \n",
    "          con.execute(\"DELETE FROM sunspots where sunactivity > 20\").rowcount, \"\\n\")\n",
    "\n",
    "    # d. Write a query to select all the year data in the table where year < 1732\n",
    "    print(read_sql(\"SELECT * FROM sunspots where year < 1732\", con))\n",
    "    con.execute(\"DROP TABLE sunspots\")\n",
    "    \n",
    "    c.close()  # Requirement: closing the cursor"
   ]
  },
  {
   "cell_type": "markdown",
   "id": "5bbaf218-ac8d-4daa-a57a-45d01b3686fa",
   "metadata": {},
   "source": [
    "### <font color=Blue>**2.**</font> **Notes:**\n",
    "> `.executemany()`:\n",
    "> * Allows one SQL command to be executed for parameter sequence.\n",
    "> * Using this method, you can add a similar data list to switch table by a single command (Python for network engineers)."
   ]
  },
  {
   "cell_type": "markdown",
   "id": "ec686de5-df49-496f-94c4-5b5825055f0e",
   "metadata": {},
   "source": [
    "### <font color=Blue>**2.**</font> **Sources:**\n",
    "\n",
    "> **In-Text:**\n",
    "* Ch. 8, pp. 179-181\n",
    "  * Section: *Accessing databases from Pandas* \n",
    "\n",
    "> **Supplemental:**\n",
    "* W3Schools: __[SQL Tutorial](https://www.w3schools.com/sql/)__ <font color=slategray>(Accessed 2024, May)</font>\n",
    "  * Referenced in text on p. 177.\n",
    "* GeeksforGeeks: __[How to Execute manhy SQLite Statements in Python?](https://www.geeksforgeeks.org/how-to-execute-many-sqlite-statements-in-python/)__ <font color=slategray>(Last Updated: 2021, June 30)</font>\n",
    "* Python for network engineers: __[Executing SQL commmands](https://pyneng.readthedocs.io/en/latest/book/25_db/sqlite3_execute.html)__ <font color=slategray>(Last Updated: 2023, May 31)</font>"
   ]
  },
  {
   "cell_type": "markdown",
   "id": "f4f0be45-7d70-4d15-b892-2ae113b1bd9f",
   "metadata": {},
   "source": [
    "***\n",
    "# <font color=Blue>**3.**</font> **SQLAlchemy:** <center> Populating a Database with SQLAlchemy\n",
    "\n",
    "<font color=Navy>First, <font color=DeepPink>**install**</font> **`sqlalchemy`**,\n",
    "\n",
    "> <font color=Navy>Then perform the following steps:\n",
    "\n",
    "> > <font color=Navy>**a.** <font color=DeepPink>**Define**</font> the superclass. <br>\n",
    "> > **b.** <font color=DeepPink>**Create** </font>the **DBSession.** <br>\n",
    "> > **c.** <font color=DeepPink>**Create** </font>two stations and <font color=DeepPink>**commit**</font> the session. <br>\n",
    "> > **d.** <font color=DeepPink>**Insert** </font>a sensor record. <br>"
   ]
  },
  {
   "cell_type": "code",
   "execution_count": null,
   "id": "6916493d-bf68-4c36-be69-5fd1ee10d740",
   "metadata": {},
   "outputs": [],
   "source": [
    "# Install `sqlalchemy` via pip\n",
    "## pip3 install SQLAlchemy\n",
    "\n",
    "# NOTE: try to install the version used in the textbook: v1.1.4 ???"
   ]
  },
  {
   "cell_type": "markdown",
   "id": "223a6e70-e83f-4ad1-9d46-844672b7e8a4",
   "metadata": {},
   "source": [
    "### **Notes:** <center>On SQLAlchemy installation</center>\n",
    "\n",
    "* <font color=MediumVioletRed>Use of the `declarative_base()` function in Fandango's (2017) code triggered a **MovedIn20Warning:** *See below*\n",
    "* <font color=MediumVioletRed>The version of SQLAlchemy used in Fandango(2017) is v1.1.4</font>\n",
    "  * <font color=MediumVioletRed>v1.1.4 was released November 15, 2016</font>\n",
    "    * **SQLAlchemy** Documentation -<u>Changelog</u>: __[v1.1.4](https://docs.sqlalchemy.org/en/20/changelog/changelog_11.html#change-1.1.4)__ <font color=slategray>(Accessed: 2024, May)</font>\n",
    "  * <font color=MediumVioletRed>2.0.30 was released May 5, 2024</font>\n",
    "    * **SQLAlchemy** 2.0 Documentation -<u>Current Release</u>: __[Release: 2.0.30](https://docs.sqlalchemy.org/en/20/)__ <font color=slategray>(Accessed: 2024, May)</font>\n",
    "* <font color=MediumVioletRed>Installing a legacy version of SQLAlchemy</font>\n",
    "  * **Stack Overflow:** __[When installing an old version of a package, can I install only compatible versions of dependent packages?](https://stackoverflow.com/questions/75468479/when-installing-an-old-version-of-a-package-can-i-install-only-compatible-versi)__ <font color=slategray>(OP: February, 2023; Accessed: 2024, May)</font>\n",
    "  * **Medium:** __[Easily Install Specific Python Package Versions with Pip](https://medium.com/geekculture/easily-install-specific-python-package-versions-with-pip-30750ddc09da)__ <font color=slategray>(2023, April 15)</font>\n",
    "    * <font color=MediumVioletRed>There have been compatibility issues with the latest release of SQLAlchemy</font>\n",
    "    \n"
   ]
  },
  {
   "cell_type": "markdown",
   "id": "558325e1-b2aa-443e-a8b1-a49c8b3cb9be",
   "metadata": {},
   "source": [
    "\n",
    "<html>\n",
    "    <body>\n",
    "        <div class=\"alert alert-danger\" role=\"alert\">\n",
    "            <p style=\"color:black;font-family:monospace;font-size:14px\">\n",
    "MovedIn20Warning: The ``declarative_base()`` function is now available as sqlalchemy.orm.declarative_base(). (deprecated since: 2.0) (Background on SQLAlchemy 2.0 at: <a href=\"https://sqlalche.me/e/b8d9\" class=\"link-primary\">https://sqlalche.me/e/b8d9</a>) <br>\n",
    "                Base = declarative_base()\n",
    "            </p>\n",
    "        </div>\n",
    "    </body>\n",
    "</html>"
   ]
  },
  {
   "cell_type": "code",
   "execution_count": 49,
   "id": "8f959e8a-003c-4546-b3fa-040f576020c4",
   "metadata": {},
   "outputs": [
    {
     "name": "stdout",
     "output_type": "stream",
     "text": [
      "\n",
      "This script is used by code further down in this notebook\n"
     ]
    }
   ],
   "source": [
    "##### 3. (pp. 181-184)\n",
    "\n",
    "# Import libraries and packages\n",
    "from sqlalchemy import create_engine\n",
    "from sqlalchemy.orm import sessionmaker\n",
    "\n",
    "# a. Define the superclass\n",
    "def populate(engine):\n",
    "    Base.metadata.bind = engine  # superclass\n",
    "\n",
    "    # b. Create the DBSession\n",
    "    DBSession = sessionmaker(bind=engine)\n",
    "    session = DBSession()\n",
    "\n",
    "    # c. Create two stations\n",
    "    de_bilt = Station(name='De Bilt')\n",
    "    session.add(de_bilt)\n",
    "    session.add(Station(name='Utrecht'))\n",
    "    # c. Commit the session\n",
    "    session.commit()\n",
    "    print(\"Station\", de_bilt)\n",
    "\n",
    "    # d. Insert a Sensor record\n",
    "    temp_sensor = Sensor(last=20, multiplier=.1, station=de_bilt)\n",
    "    session.add(temp_sensor)\n",
    "    session.commit()\n",
    "    print(\"Sensor\", temp_sensor)\n",
    "\n",
    "if __name__ == \"__main__\":\n",
    "    print(\"\\nThis script is used by code further down in this notebook\")"
   ]
  },
  {
   "cell_type": "markdown",
   "id": "c581e4a3-cd0d-40ee-b68b-50d0877692f0",
   "metadata": {},
   "source": [
    "### <font color=Blue>**3.**</font> **Sources:**\n",
    "\n",
    "> **In-Text:**\n",
    "* Ch. 8, pp. 181-184\n",
    "  * Sections: ***SQLAlchemy*** > *Installing and setting up SQLAlchemy** > *Populating a database with SQLAlchemy*\n",
    "\n",
    "> **Supplemental:**\n",
    "* W3Schools: __[SQL Tutorial](https://www.w3schools.com/sql/)__ <font color=slategray>(Accessed 2024, May)</font>\n",
    "  * Referenced in text on p. 177."
   ]
  },
  {
   "cell_type": "markdown",
   "id": "09859e22-e6e9-433c-aaa3-e4d66b3d366e",
   "metadata": {},
   "source": [
    "***\n",
    "# <font color=Blue>**4.**</font> **SQLAlchemy:** <center> Querying the Database\n",
    "\n",
    "<font color=Navy>First, <font color=DeepPink>**create**</font> an engine from a **URI**,\n",
    "\n",
    "> <font color=Navy>Then perform the following steps:\n",
    "\n",
    "> > <font color=Navy>**a.** <font color=DeepPink>**Create** </font>the station and sensor tables with the engine we just created. <br>\n",
    "> > **b.** <font color=DeepPink>**Create** </font>a **DBSession** object. <br>\n",
    "> > **c.** <font color=DeepPink>**Select** </font>the first row in the station table. <br>\n",
    "> > **d.** <font color=DeepPink>**Select** </font>all the stations. <br>\n",
    "> > **e.** <font color=DeepPink>**Select** </font>all the sensors. <br>\n",
    "> > **f.** <font color=DeepPink>**Select** </font>the first sensor, which belongs to the first station. <br>\n",
    "> > **g.** <font color=DeepPink>**Query** </font>the station table with pandas `read_sql()`. <br>"
   ]
  },
  {
   "cell_type": "code",
   "execution_count": 51,
   "id": "f9dbc0cd-d428-4f03-9dad-30c104bb415f",
   "metadata": {},
   "outputs": [
    {
     "ename": "IntegrityError",
     "evalue": "(sqlite3.IntegrityError) UNIQUE constraint failed: station.name\n[SQL: INSERT INTO station (name) VALUES (?) RETURNING id]\n[parameters: ('De Bilt',)]\n(Background on this error at: https://sqlalche.me/e/20/gkpj)",
     "output_type": "error",
     "traceback": [
      "\u001b[1;31m---------------------------------------------------------------------------\u001b[0m",
      "\u001b[1;31mIntegrityError\u001b[0m                            Traceback (most recent call last)",
      "File \u001b[1;32m~\\anaconda3\\Lib\\site-packages\\sqlalchemy\\engine\\base.py:2113\u001b[0m, in \u001b[0;36mConnection._exec_insertmany_context\u001b[1;34m(self, dialect, context)\u001b[0m\n\u001b[0;32m   2112\u001b[0m     \u001b[38;5;28;01melse\u001b[39;00m:\n\u001b[1;32m-> 2113\u001b[0m         dialect\u001b[38;5;241m.\u001b[39mdo_execute(\n\u001b[0;32m   2114\u001b[0m             cursor,\n\u001b[0;32m   2115\u001b[0m             sub_stmt,\n\u001b[0;32m   2116\u001b[0m             sub_params,\n\u001b[0;32m   2117\u001b[0m             context,\n\u001b[0;32m   2118\u001b[0m         )\n\u001b[0;32m   2120\u001b[0m \u001b[38;5;28;01mexcept\u001b[39;00m \u001b[38;5;167;01mBaseException\u001b[39;00m \u001b[38;5;28;01mas\u001b[39;00m e:\n",
      "File \u001b[1;32m~\\anaconda3\\Lib\\site-packages\\sqlalchemy\\engine\\default.py:922\u001b[0m, in \u001b[0;36mDefaultDialect.do_execute\u001b[1;34m(self, cursor, statement, parameters, context)\u001b[0m\n\u001b[0;32m    921\u001b[0m \u001b[38;5;28;01mdef\u001b[39;00m \u001b[38;5;21mdo_execute\u001b[39m(\u001b[38;5;28mself\u001b[39m, cursor, statement, parameters, context\u001b[38;5;241m=\u001b[39m\u001b[38;5;28;01mNone\u001b[39;00m):\n\u001b[1;32m--> 922\u001b[0m     cursor\u001b[38;5;241m.\u001b[39mexecute(statement, parameters)\n",
      "\u001b[1;31mIntegrityError\u001b[0m: UNIQUE constraint failed: station.name",
      "\nThe above exception was the direct cause of the following exception:\n",
      "\u001b[1;31mIntegrityError\u001b[0m                            Traceback (most recent call last)",
      "Cell \u001b[1;32mIn[51], line 13\u001b[0m\n\u001b[0;32m     11\u001b[0m \u001b[38;5;66;03m# a. Create the station and sensor tables with the engine (created above)\u001b[39;00m\n\u001b[0;32m     12\u001b[0m Base\u001b[38;5;241m.\u001b[39mmetadata\u001b[38;5;241m.\u001b[39mcreate_all(engine)\n\u001b[1;32m---> 13\u001b[0m populate(engine)\n\u001b[0;32m     14\u001b[0m Base\u001b[38;5;241m.\u001b[39mmetadata\u001b[38;5;241m.\u001b[39mbind \u001b[38;5;241m=\u001b[39m engine\n\u001b[0;32m     15\u001b[0m \u001b[38;5;66;03m# b. Create a DBSession object\u001b[39;00m\n",
      "Cell \u001b[1;32mIn[49], line 20\u001b[0m, in \u001b[0;36mpopulate\u001b[1;34m(engine)\u001b[0m\n\u001b[0;32m     18\u001b[0m session\u001b[38;5;241m.\u001b[39madd(Station(name\u001b[38;5;241m=\u001b[39m\u001b[38;5;124m'\u001b[39m\u001b[38;5;124mUtrecht\u001b[39m\u001b[38;5;124m'\u001b[39m))\n\u001b[0;32m     19\u001b[0m \u001b[38;5;66;03m# c. Commit the session\u001b[39;00m\n\u001b[1;32m---> 20\u001b[0m session\u001b[38;5;241m.\u001b[39mcommit()\n\u001b[0;32m     21\u001b[0m \u001b[38;5;28mprint\u001b[39m(\u001b[38;5;124m\"\u001b[39m\u001b[38;5;124mStation\u001b[39m\u001b[38;5;124m\"\u001b[39m, de_bilt)\n\u001b[0;32m     23\u001b[0m \u001b[38;5;66;03m# d. Insert a Sensor record\u001b[39;00m\n",
      "File \u001b[1;32m~\\anaconda3\\Lib\\site-packages\\sqlalchemy\\orm\\session.py:1969\u001b[0m, in \u001b[0;36mSession.commit\u001b[1;34m(self)\u001b[0m\n\u001b[0;32m   1966\u001b[0m \u001b[38;5;28;01mif\u001b[39;00m trans \u001b[38;5;129;01mis\u001b[39;00m \u001b[38;5;28;01mNone\u001b[39;00m:\n\u001b[0;32m   1967\u001b[0m     trans \u001b[38;5;241m=\u001b[39m \u001b[38;5;28mself\u001b[39m\u001b[38;5;241m.\u001b[39m_autobegin_t()\n\u001b[1;32m-> 1969\u001b[0m trans\u001b[38;5;241m.\u001b[39mcommit(_to_root\u001b[38;5;241m=\u001b[39m\u001b[38;5;28;01mTrue\u001b[39;00m)\n",
      "File \u001b[1;32m<string>:2\u001b[0m, in \u001b[0;36mcommit\u001b[1;34m(self, _to_root)\u001b[0m\n",
      "File \u001b[1;32m~\\anaconda3\\Lib\\site-packages\\sqlalchemy\\orm\\state_changes.py:139\u001b[0m, in \u001b[0;36m_StateChange.declare_states.<locals>._go\u001b[1;34m(fn, self, *arg, **kw)\u001b[0m\n\u001b[0;32m    137\u001b[0m \u001b[38;5;28mself\u001b[39m\u001b[38;5;241m.\u001b[39m_next_state \u001b[38;5;241m=\u001b[39m _StateChangeStates\u001b[38;5;241m.\u001b[39mCHANGE_IN_PROGRESS\n\u001b[0;32m    138\u001b[0m \u001b[38;5;28;01mtry\u001b[39;00m:\n\u001b[1;32m--> 139\u001b[0m     ret_value \u001b[38;5;241m=\u001b[39m fn(\u001b[38;5;28mself\u001b[39m, \u001b[38;5;241m*\u001b[39marg, \u001b[38;5;241m*\u001b[39m\u001b[38;5;241m*\u001b[39mkw)\n\u001b[0;32m    140\u001b[0m \u001b[38;5;28;01mexcept\u001b[39;00m:\n\u001b[0;32m    141\u001b[0m     \u001b[38;5;28;01mraise\u001b[39;00m\n",
      "File \u001b[1;32m~\\anaconda3\\Lib\\site-packages\\sqlalchemy\\orm\\session.py:1256\u001b[0m, in \u001b[0;36mSessionTransaction.commit\u001b[1;34m(self, _to_root)\u001b[0m\n\u001b[0;32m   1254\u001b[0m \u001b[38;5;28;01mif\u001b[39;00m \u001b[38;5;28mself\u001b[39m\u001b[38;5;241m.\u001b[39m_state \u001b[38;5;129;01mis\u001b[39;00m \u001b[38;5;129;01mnot\u001b[39;00m SessionTransactionState\u001b[38;5;241m.\u001b[39mPREPARED:\n\u001b[0;32m   1255\u001b[0m     \u001b[38;5;28;01mwith\u001b[39;00m \u001b[38;5;28mself\u001b[39m\u001b[38;5;241m.\u001b[39m_expect_state(SessionTransactionState\u001b[38;5;241m.\u001b[39mPREPARED):\n\u001b[1;32m-> 1256\u001b[0m         \u001b[38;5;28mself\u001b[39m\u001b[38;5;241m.\u001b[39m_prepare_impl()\n\u001b[0;32m   1258\u001b[0m \u001b[38;5;28;01mif\u001b[39;00m \u001b[38;5;28mself\u001b[39m\u001b[38;5;241m.\u001b[39m_parent \u001b[38;5;129;01mis\u001b[39;00m \u001b[38;5;28;01mNone\u001b[39;00m \u001b[38;5;129;01mor\u001b[39;00m \u001b[38;5;28mself\u001b[39m\u001b[38;5;241m.\u001b[39mnested:\n\u001b[0;32m   1259\u001b[0m     \u001b[38;5;28;01mfor\u001b[39;00m conn, trans, should_commit, autoclose \u001b[38;5;129;01min\u001b[39;00m \u001b[38;5;28mset\u001b[39m(\n\u001b[0;32m   1260\u001b[0m         \u001b[38;5;28mself\u001b[39m\u001b[38;5;241m.\u001b[39m_connections\u001b[38;5;241m.\u001b[39mvalues()\n\u001b[0;32m   1261\u001b[0m     ):\n",
      "File \u001b[1;32m<string>:2\u001b[0m, in \u001b[0;36m_prepare_impl\u001b[1;34m(self)\u001b[0m\n",
      "File \u001b[1;32m~\\anaconda3\\Lib\\site-packages\\sqlalchemy\\orm\\state_changes.py:139\u001b[0m, in \u001b[0;36m_StateChange.declare_states.<locals>._go\u001b[1;34m(fn, self, *arg, **kw)\u001b[0m\n\u001b[0;32m    137\u001b[0m \u001b[38;5;28mself\u001b[39m\u001b[38;5;241m.\u001b[39m_next_state \u001b[38;5;241m=\u001b[39m _StateChangeStates\u001b[38;5;241m.\u001b[39mCHANGE_IN_PROGRESS\n\u001b[0;32m    138\u001b[0m \u001b[38;5;28;01mtry\u001b[39;00m:\n\u001b[1;32m--> 139\u001b[0m     ret_value \u001b[38;5;241m=\u001b[39m fn(\u001b[38;5;28mself\u001b[39m, \u001b[38;5;241m*\u001b[39marg, \u001b[38;5;241m*\u001b[39m\u001b[38;5;241m*\u001b[39mkw)\n\u001b[0;32m    140\u001b[0m \u001b[38;5;28;01mexcept\u001b[39;00m:\n\u001b[0;32m    141\u001b[0m     \u001b[38;5;28;01mraise\u001b[39;00m\n",
      "File \u001b[1;32m~\\anaconda3\\Lib\\site-packages\\sqlalchemy\\orm\\session.py:1231\u001b[0m, in \u001b[0;36mSessionTransaction._prepare_impl\u001b[1;34m(self)\u001b[0m\n\u001b[0;32m   1229\u001b[0m     \u001b[38;5;28;01mif\u001b[39;00m \u001b[38;5;28mself\u001b[39m\u001b[38;5;241m.\u001b[39msession\u001b[38;5;241m.\u001b[39m_is_clean():\n\u001b[0;32m   1230\u001b[0m         \u001b[38;5;28;01mbreak\u001b[39;00m\n\u001b[1;32m-> 1231\u001b[0m     \u001b[38;5;28mself\u001b[39m\u001b[38;5;241m.\u001b[39msession\u001b[38;5;241m.\u001b[39mflush()\n\u001b[0;32m   1232\u001b[0m \u001b[38;5;28;01melse\u001b[39;00m:\n\u001b[0;32m   1233\u001b[0m     \u001b[38;5;28;01mraise\u001b[39;00m exc\u001b[38;5;241m.\u001b[39mFlushError(\n\u001b[0;32m   1234\u001b[0m         \u001b[38;5;124m\"\u001b[39m\u001b[38;5;124mOver 100 subsequent flushes have occurred within \u001b[39m\u001b[38;5;124m\"\u001b[39m\n\u001b[0;32m   1235\u001b[0m         \u001b[38;5;124m\"\u001b[39m\u001b[38;5;124msession.commit() - is an after_flush() hook \u001b[39m\u001b[38;5;124m\"\u001b[39m\n\u001b[0;32m   1236\u001b[0m         \u001b[38;5;124m\"\u001b[39m\u001b[38;5;124mcreating new objects?\u001b[39m\u001b[38;5;124m\"\u001b[39m\n\u001b[0;32m   1237\u001b[0m     )\n",
      "File \u001b[1;32m~\\anaconda3\\Lib\\site-packages\\sqlalchemy\\orm\\session.py:4312\u001b[0m, in \u001b[0;36mSession.flush\u001b[1;34m(self, objects)\u001b[0m\n\u001b[0;32m   4310\u001b[0m \u001b[38;5;28;01mtry\u001b[39;00m:\n\u001b[0;32m   4311\u001b[0m     \u001b[38;5;28mself\u001b[39m\u001b[38;5;241m.\u001b[39m_flushing \u001b[38;5;241m=\u001b[39m \u001b[38;5;28;01mTrue\u001b[39;00m\n\u001b[1;32m-> 4312\u001b[0m     \u001b[38;5;28mself\u001b[39m\u001b[38;5;241m.\u001b[39m_flush(objects)\n\u001b[0;32m   4313\u001b[0m \u001b[38;5;28;01mfinally\u001b[39;00m:\n\u001b[0;32m   4314\u001b[0m     \u001b[38;5;28mself\u001b[39m\u001b[38;5;241m.\u001b[39m_flushing \u001b[38;5;241m=\u001b[39m \u001b[38;5;28;01mFalse\u001b[39;00m\n",
      "File \u001b[1;32m~\\anaconda3\\Lib\\site-packages\\sqlalchemy\\orm\\session.py:4447\u001b[0m, in \u001b[0;36mSession._flush\u001b[1;34m(self, objects)\u001b[0m\n\u001b[0;32m   4444\u001b[0m     transaction\u001b[38;5;241m.\u001b[39mcommit()\n\u001b[0;32m   4446\u001b[0m \u001b[38;5;28;01mexcept\u001b[39;00m:\n\u001b[1;32m-> 4447\u001b[0m     \u001b[38;5;28;01mwith\u001b[39;00m util\u001b[38;5;241m.\u001b[39msafe_reraise():\n\u001b[0;32m   4448\u001b[0m         transaction\u001b[38;5;241m.\u001b[39mrollback(_capture_exception\u001b[38;5;241m=\u001b[39m\u001b[38;5;28;01mTrue\u001b[39;00m)\n",
      "File \u001b[1;32m~\\anaconda3\\Lib\\site-packages\\sqlalchemy\\util\\langhelpers.py:146\u001b[0m, in \u001b[0;36msafe_reraise.__exit__\u001b[1;34m(self, type_, value, traceback)\u001b[0m\n\u001b[0;32m    144\u001b[0m     \u001b[38;5;28;01massert\u001b[39;00m exc_value \u001b[38;5;129;01mis\u001b[39;00m \u001b[38;5;129;01mnot\u001b[39;00m \u001b[38;5;28;01mNone\u001b[39;00m\n\u001b[0;32m    145\u001b[0m     \u001b[38;5;28mself\u001b[39m\u001b[38;5;241m.\u001b[39m_exc_info \u001b[38;5;241m=\u001b[39m \u001b[38;5;28;01mNone\u001b[39;00m  \u001b[38;5;66;03m# remove potential circular references\u001b[39;00m\n\u001b[1;32m--> 146\u001b[0m     \u001b[38;5;28;01mraise\u001b[39;00m exc_value\u001b[38;5;241m.\u001b[39mwith_traceback(exc_tb)\n\u001b[0;32m    147\u001b[0m \u001b[38;5;28;01melse\u001b[39;00m:\n\u001b[0;32m    148\u001b[0m     \u001b[38;5;28mself\u001b[39m\u001b[38;5;241m.\u001b[39m_exc_info \u001b[38;5;241m=\u001b[39m \u001b[38;5;28;01mNone\u001b[39;00m  \u001b[38;5;66;03m# remove potential circular references\u001b[39;00m\n",
      "File \u001b[1;32m~\\anaconda3\\Lib\\site-packages\\sqlalchemy\\orm\\session.py:4408\u001b[0m, in \u001b[0;36mSession._flush\u001b[1;34m(self, objects)\u001b[0m\n\u001b[0;32m   4406\u001b[0m \u001b[38;5;28mself\u001b[39m\u001b[38;5;241m.\u001b[39m_warn_on_events \u001b[38;5;241m=\u001b[39m \u001b[38;5;28;01mTrue\u001b[39;00m\n\u001b[0;32m   4407\u001b[0m \u001b[38;5;28;01mtry\u001b[39;00m:\n\u001b[1;32m-> 4408\u001b[0m     flush_context\u001b[38;5;241m.\u001b[39mexecute()\n\u001b[0;32m   4409\u001b[0m \u001b[38;5;28;01mfinally\u001b[39;00m:\n\u001b[0;32m   4410\u001b[0m     \u001b[38;5;28mself\u001b[39m\u001b[38;5;241m.\u001b[39m_warn_on_events \u001b[38;5;241m=\u001b[39m \u001b[38;5;28;01mFalse\u001b[39;00m\n",
      "File \u001b[1;32m~\\anaconda3\\Lib\\site-packages\\sqlalchemy\\orm\\unitofwork.py:466\u001b[0m, in \u001b[0;36mUOWTransaction.execute\u001b[1;34m(self)\u001b[0m\n\u001b[0;32m    464\u001b[0m \u001b[38;5;28;01melse\u001b[39;00m:\n\u001b[0;32m    465\u001b[0m     \u001b[38;5;28;01mfor\u001b[39;00m rec \u001b[38;5;129;01min\u001b[39;00m topological\u001b[38;5;241m.\u001b[39msort(\u001b[38;5;28mself\u001b[39m\u001b[38;5;241m.\u001b[39mdependencies, postsort_actions):\n\u001b[1;32m--> 466\u001b[0m         rec\u001b[38;5;241m.\u001b[39mexecute(\u001b[38;5;28mself\u001b[39m)\n",
      "File \u001b[1;32m~\\anaconda3\\Lib\\site-packages\\sqlalchemy\\orm\\unitofwork.py:642\u001b[0m, in \u001b[0;36mSaveUpdateAll.execute\u001b[1;34m(self, uow)\u001b[0m\n\u001b[0;32m    640\u001b[0m \u001b[38;5;129m@util\u001b[39m\u001b[38;5;241m.\u001b[39mpreload_module(\u001b[38;5;124m\"\u001b[39m\u001b[38;5;124msqlalchemy.orm.persistence\u001b[39m\u001b[38;5;124m\"\u001b[39m)\n\u001b[0;32m    641\u001b[0m \u001b[38;5;28;01mdef\u001b[39;00m \u001b[38;5;21mexecute\u001b[39m(\u001b[38;5;28mself\u001b[39m, uow):\n\u001b[1;32m--> 642\u001b[0m     util\u001b[38;5;241m.\u001b[39mpreloaded\u001b[38;5;241m.\u001b[39morm_persistence\u001b[38;5;241m.\u001b[39msave_obj(\n\u001b[0;32m    643\u001b[0m         \u001b[38;5;28mself\u001b[39m\u001b[38;5;241m.\u001b[39mmapper,\n\u001b[0;32m    644\u001b[0m         uow\u001b[38;5;241m.\u001b[39mstates_for_mapper_hierarchy(\u001b[38;5;28mself\u001b[39m\u001b[38;5;241m.\u001b[39mmapper, \u001b[38;5;28;01mFalse\u001b[39;00m, \u001b[38;5;28;01mFalse\u001b[39;00m),\n\u001b[0;32m    645\u001b[0m         uow,\n\u001b[0;32m    646\u001b[0m     )\n",
      "File \u001b[1;32m~\\anaconda3\\Lib\\site-packages\\sqlalchemy\\orm\\persistence.py:93\u001b[0m, in \u001b[0;36msave_obj\u001b[1;34m(base_mapper, states, uowtransaction, single)\u001b[0m\n\u001b[0;32m     81\u001b[0m     update \u001b[38;5;241m=\u001b[39m _collect_update_commands(\n\u001b[0;32m     82\u001b[0m         uowtransaction, table, states_to_update\n\u001b[0;32m     83\u001b[0m     )\n\u001b[0;32m     85\u001b[0m     _emit_update_statements(\n\u001b[0;32m     86\u001b[0m         base_mapper,\n\u001b[0;32m     87\u001b[0m         uowtransaction,\n\u001b[1;32m   (...)\u001b[0m\n\u001b[0;32m     90\u001b[0m         update,\n\u001b[0;32m     91\u001b[0m     )\n\u001b[1;32m---> 93\u001b[0m     _emit_insert_statements(\n\u001b[0;32m     94\u001b[0m         base_mapper,\n\u001b[0;32m     95\u001b[0m         uowtransaction,\n\u001b[0;32m     96\u001b[0m         mapper,\n\u001b[0;32m     97\u001b[0m         table,\n\u001b[0;32m     98\u001b[0m         insert,\n\u001b[0;32m     99\u001b[0m     )\n\u001b[0;32m    101\u001b[0m _finalize_insert_update_commands(\n\u001b[0;32m    102\u001b[0m     base_mapper,\n\u001b[0;32m    103\u001b[0m     uowtransaction,\n\u001b[1;32m   (...)\u001b[0m\n\u001b[0;32m    119\u001b[0m     ),\n\u001b[0;32m    120\u001b[0m )\n",
      "File \u001b[1;32m~\\anaconda3\\Lib\\site-packages\\sqlalchemy\\orm\\persistence.py:1137\u001b[0m, in \u001b[0;36m_emit_insert_statements\u001b[1;34m(base_mapper, uowtransaction, mapper, table, insert, bookkeeping, use_orm_insert_stmt, execution_options)\u001b[0m\n\u001b[0;32m   1134\u001b[0m \u001b[38;5;28;01mif\u001b[39;00m do_executemany:\n\u001b[0;32m   1135\u001b[0m     multiparams \u001b[38;5;241m=\u001b[39m [rec[\u001b[38;5;241m2\u001b[39m] \u001b[38;5;28;01mfor\u001b[39;00m rec \u001b[38;5;129;01min\u001b[39;00m records]\n\u001b[1;32m-> 1137\u001b[0m     result \u001b[38;5;241m=\u001b[39m connection\u001b[38;5;241m.\u001b[39mexecute(\n\u001b[0;32m   1138\u001b[0m         statement, multiparams, execution_options\u001b[38;5;241m=\u001b[39mexecution_options\n\u001b[0;32m   1139\u001b[0m     )\n\u001b[0;32m   1141\u001b[0m     \u001b[38;5;28;01mif\u001b[39;00m use_orm_insert_stmt \u001b[38;5;129;01mis\u001b[39;00m \u001b[38;5;129;01mnot\u001b[39;00m \u001b[38;5;28;01mNone\u001b[39;00m:\n\u001b[0;32m   1142\u001b[0m         \u001b[38;5;28;01mif\u001b[39;00m return_result \u001b[38;5;129;01mis\u001b[39;00m \u001b[38;5;28;01mNone\u001b[39;00m:\n",
      "File \u001b[1;32m~\\anaconda3\\Lib\\site-packages\\sqlalchemy\\engine\\base.py:1416\u001b[0m, in \u001b[0;36mConnection.execute\u001b[1;34m(self, statement, parameters, execution_options)\u001b[0m\n\u001b[0;32m   1414\u001b[0m     \u001b[38;5;28;01mraise\u001b[39;00m exc\u001b[38;5;241m.\u001b[39mObjectNotExecutableError(statement) \u001b[38;5;28;01mfrom\u001b[39;00m \u001b[38;5;21;01merr\u001b[39;00m\n\u001b[0;32m   1415\u001b[0m \u001b[38;5;28;01melse\u001b[39;00m:\n\u001b[1;32m-> 1416\u001b[0m     \u001b[38;5;28;01mreturn\u001b[39;00m meth(\n\u001b[0;32m   1417\u001b[0m         \u001b[38;5;28mself\u001b[39m,\n\u001b[0;32m   1418\u001b[0m         distilled_parameters,\n\u001b[0;32m   1419\u001b[0m         execution_options \u001b[38;5;129;01mor\u001b[39;00m NO_OPTIONS,\n\u001b[0;32m   1420\u001b[0m     )\n",
      "File \u001b[1;32m~\\anaconda3\\Lib\\site-packages\\sqlalchemy\\sql\\elements.py:517\u001b[0m, in \u001b[0;36mClauseElement._execute_on_connection\u001b[1;34m(self, connection, distilled_params, execution_options)\u001b[0m\n\u001b[0;32m    515\u001b[0m     \u001b[38;5;28;01mif\u001b[39;00m TYPE_CHECKING:\n\u001b[0;32m    516\u001b[0m         \u001b[38;5;28;01massert\u001b[39;00m \u001b[38;5;28misinstance\u001b[39m(\u001b[38;5;28mself\u001b[39m, Executable)\n\u001b[1;32m--> 517\u001b[0m     \u001b[38;5;28;01mreturn\u001b[39;00m connection\u001b[38;5;241m.\u001b[39m_execute_clauseelement(\n\u001b[0;32m    518\u001b[0m         \u001b[38;5;28mself\u001b[39m, distilled_params, execution_options\n\u001b[0;32m    519\u001b[0m     )\n\u001b[0;32m    520\u001b[0m \u001b[38;5;28;01melse\u001b[39;00m:\n\u001b[0;32m    521\u001b[0m     \u001b[38;5;28;01mraise\u001b[39;00m exc\u001b[38;5;241m.\u001b[39mObjectNotExecutableError(\u001b[38;5;28mself\u001b[39m)\n",
      "File \u001b[1;32m~\\anaconda3\\Lib\\site-packages\\sqlalchemy\\engine\\base.py:1639\u001b[0m, in \u001b[0;36mConnection._execute_clauseelement\u001b[1;34m(self, elem, distilled_parameters, execution_options)\u001b[0m\n\u001b[0;32m   1627\u001b[0m compiled_cache: Optional[CompiledCacheType] \u001b[38;5;241m=\u001b[39m execution_options\u001b[38;5;241m.\u001b[39mget(\n\u001b[0;32m   1628\u001b[0m     \u001b[38;5;124m\"\u001b[39m\u001b[38;5;124mcompiled_cache\u001b[39m\u001b[38;5;124m\"\u001b[39m, \u001b[38;5;28mself\u001b[39m\u001b[38;5;241m.\u001b[39mengine\u001b[38;5;241m.\u001b[39m_compiled_cache\n\u001b[0;32m   1629\u001b[0m )\n\u001b[0;32m   1631\u001b[0m compiled_sql, extracted_params, cache_hit \u001b[38;5;241m=\u001b[39m elem\u001b[38;5;241m.\u001b[39m_compile_w_cache(\n\u001b[0;32m   1632\u001b[0m     dialect\u001b[38;5;241m=\u001b[39mdialect,\n\u001b[0;32m   1633\u001b[0m     compiled_cache\u001b[38;5;241m=\u001b[39mcompiled_cache,\n\u001b[1;32m   (...)\u001b[0m\n\u001b[0;32m   1637\u001b[0m     linting\u001b[38;5;241m=\u001b[39m\u001b[38;5;28mself\u001b[39m\u001b[38;5;241m.\u001b[39mdialect\u001b[38;5;241m.\u001b[39mcompiler_linting \u001b[38;5;241m|\u001b[39m compiler\u001b[38;5;241m.\u001b[39mWARN_LINTING,\n\u001b[0;32m   1638\u001b[0m )\n\u001b[1;32m-> 1639\u001b[0m ret \u001b[38;5;241m=\u001b[39m \u001b[38;5;28mself\u001b[39m\u001b[38;5;241m.\u001b[39m_execute_context(\n\u001b[0;32m   1640\u001b[0m     dialect,\n\u001b[0;32m   1641\u001b[0m     dialect\u001b[38;5;241m.\u001b[39mexecution_ctx_cls\u001b[38;5;241m.\u001b[39m_init_compiled,\n\u001b[0;32m   1642\u001b[0m     compiled_sql,\n\u001b[0;32m   1643\u001b[0m     distilled_parameters,\n\u001b[0;32m   1644\u001b[0m     execution_options,\n\u001b[0;32m   1645\u001b[0m     compiled_sql,\n\u001b[0;32m   1646\u001b[0m     distilled_parameters,\n\u001b[0;32m   1647\u001b[0m     elem,\n\u001b[0;32m   1648\u001b[0m     extracted_params,\n\u001b[0;32m   1649\u001b[0m     cache_hit\u001b[38;5;241m=\u001b[39mcache_hit,\n\u001b[0;32m   1650\u001b[0m )\n\u001b[0;32m   1651\u001b[0m \u001b[38;5;28;01mif\u001b[39;00m has_events:\n\u001b[0;32m   1652\u001b[0m     \u001b[38;5;28mself\u001b[39m\u001b[38;5;241m.\u001b[39mdispatch\u001b[38;5;241m.\u001b[39mafter_execute(\n\u001b[0;32m   1653\u001b[0m         \u001b[38;5;28mself\u001b[39m,\n\u001b[0;32m   1654\u001b[0m         elem,\n\u001b[1;32m   (...)\u001b[0m\n\u001b[0;32m   1658\u001b[0m         ret,\n\u001b[0;32m   1659\u001b[0m     )\n",
      "File \u001b[1;32m~\\anaconda3\\Lib\\site-packages\\sqlalchemy\\engine\\base.py:1843\u001b[0m, in \u001b[0;36mConnection._execute_context\u001b[1;34m(self, dialect, constructor, statement, parameters, execution_options, *args, **kw)\u001b[0m\n\u001b[0;32m   1840\u001b[0m context\u001b[38;5;241m.\u001b[39mpre_exec()\n\u001b[0;32m   1842\u001b[0m \u001b[38;5;28;01mif\u001b[39;00m context\u001b[38;5;241m.\u001b[39mexecute_style \u001b[38;5;129;01mis\u001b[39;00m ExecuteStyle\u001b[38;5;241m.\u001b[39mINSERTMANYVALUES:\n\u001b[1;32m-> 1843\u001b[0m     \u001b[38;5;28;01mreturn\u001b[39;00m \u001b[38;5;28mself\u001b[39m\u001b[38;5;241m.\u001b[39m_exec_insertmany_context(\n\u001b[0;32m   1844\u001b[0m         dialect,\n\u001b[0;32m   1845\u001b[0m         context,\n\u001b[0;32m   1846\u001b[0m     )\n\u001b[0;32m   1847\u001b[0m \u001b[38;5;28;01melse\u001b[39;00m:\n\u001b[0;32m   1848\u001b[0m     \u001b[38;5;28;01mreturn\u001b[39;00m \u001b[38;5;28mself\u001b[39m\u001b[38;5;241m.\u001b[39m_exec_single_context(\n\u001b[0;32m   1849\u001b[0m         dialect, context, statement, parameters\n\u001b[0;32m   1850\u001b[0m     )\n",
      "File \u001b[1;32m~\\anaconda3\\Lib\\site-packages\\sqlalchemy\\engine\\base.py:2121\u001b[0m, in \u001b[0;36mConnection._exec_insertmany_context\u001b[1;34m(self, dialect, context)\u001b[0m\n\u001b[0;32m   2113\u001b[0m         dialect\u001b[38;5;241m.\u001b[39mdo_execute(\n\u001b[0;32m   2114\u001b[0m             cursor,\n\u001b[0;32m   2115\u001b[0m             sub_stmt,\n\u001b[0;32m   2116\u001b[0m             sub_params,\n\u001b[0;32m   2117\u001b[0m             context,\n\u001b[0;32m   2118\u001b[0m         )\n\u001b[0;32m   2120\u001b[0m \u001b[38;5;28;01mexcept\u001b[39;00m \u001b[38;5;167;01mBaseException\u001b[39;00m \u001b[38;5;28;01mas\u001b[39;00m e:\n\u001b[1;32m-> 2121\u001b[0m     \u001b[38;5;28mself\u001b[39m\u001b[38;5;241m.\u001b[39m_handle_dbapi_exception(\n\u001b[0;32m   2122\u001b[0m         e,\n\u001b[0;32m   2123\u001b[0m         sql_util\u001b[38;5;241m.\u001b[39m_long_statement(sub_stmt),\n\u001b[0;32m   2124\u001b[0m         sub_params,\n\u001b[0;32m   2125\u001b[0m         cursor,\n\u001b[0;32m   2126\u001b[0m         context,\n\u001b[0;32m   2127\u001b[0m         is_sub_exec\u001b[38;5;241m=\u001b[39m\u001b[38;5;28;01mTrue\u001b[39;00m,\n\u001b[0;32m   2128\u001b[0m     )\n\u001b[0;32m   2130\u001b[0m \u001b[38;5;28;01mif\u001b[39;00m engine_events:\n\u001b[0;32m   2131\u001b[0m     \u001b[38;5;28mself\u001b[39m\u001b[38;5;241m.\u001b[39mdispatch\u001b[38;5;241m.\u001b[39mafter_cursor_execute(\n\u001b[0;32m   2132\u001b[0m         \u001b[38;5;28mself\u001b[39m,\n\u001b[0;32m   2133\u001b[0m         cursor,\n\u001b[1;32m   (...)\u001b[0m\n\u001b[0;32m   2137\u001b[0m         context\u001b[38;5;241m.\u001b[39mexecutemany,\n\u001b[0;32m   2138\u001b[0m     )\n",
      "File \u001b[1;32m~\\anaconda3\\Lib\\site-packages\\sqlalchemy\\engine\\base.py:2344\u001b[0m, in \u001b[0;36mConnection._handle_dbapi_exception\u001b[1;34m(self, e, statement, parameters, cursor, context, is_sub_exec)\u001b[0m\n\u001b[0;32m   2342\u001b[0m \u001b[38;5;28;01melif\u001b[39;00m should_wrap:\n\u001b[0;32m   2343\u001b[0m     \u001b[38;5;28;01massert\u001b[39;00m sqlalchemy_exception \u001b[38;5;129;01mis\u001b[39;00m \u001b[38;5;129;01mnot\u001b[39;00m \u001b[38;5;28;01mNone\u001b[39;00m\n\u001b[1;32m-> 2344\u001b[0m     \u001b[38;5;28;01mraise\u001b[39;00m sqlalchemy_exception\u001b[38;5;241m.\u001b[39mwith_traceback(exc_info[\u001b[38;5;241m2\u001b[39m]) \u001b[38;5;28;01mfrom\u001b[39;00m \u001b[38;5;21;01me\u001b[39;00m\n\u001b[0;32m   2345\u001b[0m \u001b[38;5;28;01melse\u001b[39;00m:\n\u001b[0;32m   2346\u001b[0m     \u001b[38;5;28;01massert\u001b[39;00m exc_info[\u001b[38;5;241m1\u001b[39m] \u001b[38;5;129;01mis\u001b[39;00m \u001b[38;5;129;01mnot\u001b[39;00m \u001b[38;5;28;01mNone\u001b[39;00m\n",
      "File \u001b[1;32m~\\anaconda3\\Lib\\site-packages\\sqlalchemy\\engine\\base.py:2113\u001b[0m, in \u001b[0;36mConnection._exec_insertmany_context\u001b[1;34m(self, dialect, context)\u001b[0m\n\u001b[0;32m   2111\u001b[0m             \u001b[38;5;28;01mbreak\u001b[39;00m\n\u001b[0;32m   2112\u001b[0m     \u001b[38;5;28;01melse\u001b[39;00m:\n\u001b[1;32m-> 2113\u001b[0m         dialect\u001b[38;5;241m.\u001b[39mdo_execute(\n\u001b[0;32m   2114\u001b[0m             cursor,\n\u001b[0;32m   2115\u001b[0m             sub_stmt,\n\u001b[0;32m   2116\u001b[0m             sub_params,\n\u001b[0;32m   2117\u001b[0m             context,\n\u001b[0;32m   2118\u001b[0m         )\n\u001b[0;32m   2120\u001b[0m \u001b[38;5;28;01mexcept\u001b[39;00m \u001b[38;5;167;01mBaseException\u001b[39;00m \u001b[38;5;28;01mas\u001b[39;00m e:\n\u001b[0;32m   2121\u001b[0m     \u001b[38;5;28mself\u001b[39m\u001b[38;5;241m.\u001b[39m_handle_dbapi_exception(\n\u001b[0;32m   2122\u001b[0m         e,\n\u001b[0;32m   2123\u001b[0m         sql_util\u001b[38;5;241m.\u001b[39m_long_statement(sub_stmt),\n\u001b[1;32m   (...)\u001b[0m\n\u001b[0;32m   2127\u001b[0m         is_sub_exec\u001b[38;5;241m=\u001b[39m\u001b[38;5;28;01mTrue\u001b[39;00m,\n\u001b[0;32m   2128\u001b[0m     )\n",
      "File \u001b[1;32m~\\anaconda3\\Lib\\site-packages\\sqlalchemy\\engine\\default.py:922\u001b[0m, in \u001b[0;36mDefaultDialect.do_execute\u001b[1;34m(self, cursor, statement, parameters, context)\u001b[0m\n\u001b[0;32m    921\u001b[0m \u001b[38;5;28;01mdef\u001b[39;00m \u001b[38;5;21mdo_execute\u001b[39m(\u001b[38;5;28mself\u001b[39m, cursor, statement, parameters, context\u001b[38;5;241m=\u001b[39m\u001b[38;5;28;01mNone\u001b[39;00m):\n\u001b[1;32m--> 922\u001b[0m     cursor\u001b[38;5;241m.\u001b[39mexecute(statement, parameters)\n",
      "\u001b[1;31mIntegrityError\u001b[0m: (sqlite3.IntegrityError) UNIQUE constraint failed: station.name\n[SQL: INSERT INTO station (name) VALUES (?) RETURNING id]\n[parameters: ('De Bilt',)]\n(Background on this error at: https://sqlalche.me/e/20/gkpj)"
     ]
    }
   ],
   "source": [
    "##### 4. (pp. 184-186)\n",
    "\n",
    "# Import libraries and packages\n",
    "#from sqlalchemy import create_engine\n",
    "#from sqlalchemy.orm import sessionmaker\n",
    "import os\n",
    "from pandas.io.sql import read_sql\n",
    "\n",
    "# Create an engine from a URI\n",
    "engine = create_engine('sqlite:///demo.db')\n",
    "# a. Create the station and sensor tables with the engine (created above)\n",
    "Base.metadata.create_all(engine)\n",
    "populate(engine)\n",
    "Base.metadata.bind = engine\n",
    "# b. Create a DBSession object\n",
    "DBSession = sessionmaker()\n",
    "DBSession.bind = engine\n",
    "session = DBSession()\n",
    "\n",
    "# c. Select the FIRST ROW in the station table\n",
    "station = session.query(Station).first()\n",
    "\n",
    "# d. Select ALL the stations\n",
    "print(\"Query 1\", session.query(Station).all())\n",
    "# e. Select ALL the sensors\n",
    "print(\"Query 2\", session.query(Sensor).all())\n",
    "#. f. Select the FIRST sensor (belongs to the first station)\n",
    "print(\"Query 3\", session.query(Sensor).filter(Sensor.station == station).one())\n",
    "# g. Query the station table with Pandas `read_sql()'\n",
    "print(read_sql(\"SELECT * FROM station\", engine.raw_connection()))"
   ]
  },
  {
   "cell_type": "markdown",
   "id": "19ab87c1-a9b5-439e-b49e-0442fe0a4190",
   "metadata": {},
   "source": [
    "### <font color=Blue>**4.**</font> **Notes:**\n",
    "> `.read_sql()`:\n",
    "> * Reads a SQL query or database table into a DataFrame\n",
    "> * Returns a DataFrame or Iterator[DataFrame]"
   ]
  },
  {
   "cell_type": "markdown",
   "id": "5ae54b8d-81bf-4e21-8f2f-791cff4036c3",
   "metadata": {},
   "source": [
    "### <font color=Blue>**4.**</font> **Sources:**\n",
    "\n",
    "> **In-Text:**\n",
    "* Ch. 8, pp. 184-186\n",
    "  * Section: *Querying the database with SQLAlchemy*\n",
    "\n",
    "> **Supplemental:**\n",
    "* W3Schools: __[SQL Tutorial](https://www.w3schools.com/sql/)__ <font color=slategray>(Accessed 2024, May)</font>\n",
    "  * Referenced in text on p. 177.\n",
    "* pydata: __[pandas.read_sql](https://pandas.pydata.org/docs/reference/api/pandas.read_sql.html)__ <font color=slategray>(Accessed 2024, May)</font>"
   ]
  },
  {
   "cell_type": "markdown",
   "id": "62cea4d1-8c08-438c-a8bb-ef3e8aacd370",
   "metadata": {},
   "source": [
    "***\n",
    "***\n",
    "***"
   ]
  }
 ],
 "metadata": {
  "kernelspec": {
   "display_name": "Python 3 (ipykernel)",
   "language": "python",
   "name": "python3"
  },
  "language_info": {
   "codemirror_mode": {
    "name": "ipython",
    "version": 3
   },
   "file_extension": ".py",
   "mimetype": "text/x-python",
   "name": "python",
   "nbconvert_exporter": "python",
   "pygments_lexer": "ipython3",
   "version": "3.11.7"
  }
 },
 "nbformat": 4,
 "nbformat_minor": 5
}
