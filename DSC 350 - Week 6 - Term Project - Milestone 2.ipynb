{
 "cells": [
  {
   "cell_type": "markdown",
   "id": "ad0308a2-aff3-4720-96be-1c408a688734",
   "metadata": {},
   "source": [
    "# <center> DSC 350 - Week 6 - Term Project <br> **Milestone 2**\n",
    "***\n",
    "## Alana D'Agostino\n",
    "### Professor Kinney\n",
    "#### 21 April 2024\n",
    "***"
   ]
  },
  {
   "cell_type": "markdown",
   "id": "6cef97c5-7b5f-4d80-88b5-f040137db01b",
   "metadata": {},
   "source": [
    "# <center>Prepare Notebook"
   ]
  },
  {
   "cell_type": "code",
   "execution_count": 6,
   "id": "5d27af91-1cad-4d33-8cbc-4b37b0d74d01",
   "metadata": {},
   "outputs": [
    {
     "data": {
      "text/html": [
       "<div>\n",
       "<style scoped>\n",
       "    .dataframe tbody tr th:only-of-type {\n",
       "        vertical-align: middle;\n",
       "    }\n",
       "\n",
       "    .dataframe tbody tr th {\n",
       "        vertical-align: top;\n",
       "    }\n",
       "\n",
       "    .dataframe thead th {\n",
       "        text-align: right;\n",
       "    }\n",
       "</style>\n",
       "<table border=\"1\" class=\"dataframe\">\n",
       "  <thead>\n",
       "    <tr style=\"text-align: right;\">\n",
       "      <th></th>\n",
       "      <th>id</th>\n",
       "      <th>book_id</th>\n",
       "      <th>best_book_id</th>\n",
       "      <th>work_id</th>\n",
       "      <th>books_count</th>\n",
       "      <th>isbn</th>\n",
       "      <th>isbn13</th>\n",
       "      <th>authors</th>\n",
       "      <th>original_publication_year</th>\n",
       "      <th>original_title</th>\n",
       "      <th>...</th>\n",
       "      <th>ratings_count</th>\n",
       "      <th>work_ratings_count</th>\n",
       "      <th>work_text_reviews_count</th>\n",
       "      <th>ratings_1</th>\n",
       "      <th>ratings_2</th>\n",
       "      <th>ratings_3</th>\n",
       "      <th>ratings_4</th>\n",
       "      <th>ratings_5</th>\n",
       "      <th>image_url</th>\n",
       "      <th>small_image_url</th>\n",
       "    </tr>\n",
       "  </thead>\n",
       "  <tbody>\n",
       "    <tr>\n",
       "      <th>0</th>\n",
       "      <td>1</td>\n",
       "      <td>2767052</td>\n",
       "      <td>2767052</td>\n",
       "      <td>2792775</td>\n",
       "      <td>272</td>\n",
       "      <td>439023483</td>\n",
       "      <td>9.780439e+12</td>\n",
       "      <td>Suzanne Collins</td>\n",
       "      <td>2008.0</td>\n",
       "      <td>The Hunger Games</td>\n",
       "      <td>...</td>\n",
       "      <td>4780653</td>\n",
       "      <td>4942365</td>\n",
       "      <td>155254</td>\n",
       "      <td>66715</td>\n",
       "      <td>127936</td>\n",
       "      <td>560092</td>\n",
       "      <td>1481305</td>\n",
       "      <td>2706317</td>\n",
       "      <td>https://images.gr-assets.com/books/1447303603m...</td>\n",
       "      <td>https://images.gr-assets.com/books/1447303603s...</td>\n",
       "    </tr>\n",
       "    <tr>\n",
       "      <th>1</th>\n",
       "      <td>2</td>\n",
       "      <td>3</td>\n",
       "      <td>3</td>\n",
       "      <td>4640799</td>\n",
       "      <td>491</td>\n",
       "      <td>439554934</td>\n",
       "      <td>9.780440e+12</td>\n",
       "      <td>J.K. Rowling, Mary GrandPré</td>\n",
       "      <td>1997.0</td>\n",
       "      <td>Harry Potter and the Philosopher's Stone</td>\n",
       "      <td>...</td>\n",
       "      <td>4602479</td>\n",
       "      <td>4800065</td>\n",
       "      <td>75867</td>\n",
       "      <td>75504</td>\n",
       "      <td>101676</td>\n",
       "      <td>455024</td>\n",
       "      <td>1156318</td>\n",
       "      <td>3011543</td>\n",
       "      <td>https://images.gr-assets.com/books/1474154022m...</td>\n",
       "      <td>https://images.gr-assets.com/books/1474154022s...</td>\n",
       "    </tr>\n",
       "    <tr>\n",
       "      <th>2</th>\n",
       "      <td>3</td>\n",
       "      <td>41865</td>\n",
       "      <td>41865</td>\n",
       "      <td>3212258</td>\n",
       "      <td>226</td>\n",
       "      <td>316015849</td>\n",
       "      <td>9.780316e+12</td>\n",
       "      <td>Stephenie Meyer</td>\n",
       "      <td>2005.0</td>\n",
       "      <td>Twilight</td>\n",
       "      <td>...</td>\n",
       "      <td>3866839</td>\n",
       "      <td>3916824</td>\n",
       "      <td>95009</td>\n",
       "      <td>456191</td>\n",
       "      <td>436802</td>\n",
       "      <td>793319</td>\n",
       "      <td>875073</td>\n",
       "      <td>1355439</td>\n",
       "      <td>https://images.gr-assets.com/books/1361039443m...</td>\n",
       "      <td>https://images.gr-assets.com/books/1361039443s...</td>\n",
       "    </tr>\n",
       "  </tbody>\n",
       "</table>\n",
       "<p>3 rows × 23 columns</p>\n",
       "</div>"
      ],
      "text/plain": [
       "   id  book_id  best_book_id  work_id  books_count       isbn        isbn13  \\\n",
       "0   1  2767052       2767052  2792775          272  439023483  9.780439e+12   \n",
       "1   2        3             3  4640799          491  439554934  9.780440e+12   \n",
       "2   3    41865         41865  3212258          226  316015849  9.780316e+12   \n",
       "\n",
       "                       authors  original_publication_year  \\\n",
       "0              Suzanne Collins                     2008.0   \n",
       "1  J.K. Rowling, Mary GrandPré                     1997.0   \n",
       "2              Stephenie Meyer                     2005.0   \n",
       "\n",
       "                             original_title  ... ratings_count  \\\n",
       "0                          The Hunger Games  ...       4780653   \n",
       "1  Harry Potter and the Philosopher's Stone  ...       4602479   \n",
       "2                                  Twilight  ...       3866839   \n",
       "\n",
       "  work_ratings_count  work_text_reviews_count  ratings_1  ratings_2  \\\n",
       "0            4942365                   155254      66715     127936   \n",
       "1            4800065                    75867      75504     101676   \n",
       "2            3916824                    95009     456191     436802   \n",
       "\n",
       "   ratings_3  ratings_4  ratings_5  \\\n",
       "0     560092    1481305    2706317   \n",
       "1     455024    1156318    3011543   \n",
       "2     793319     875073    1355439   \n",
       "\n",
       "                                           image_url  \\\n",
       "0  https://images.gr-assets.com/books/1447303603m...   \n",
       "1  https://images.gr-assets.com/books/1474154022m...   \n",
       "2  https://images.gr-assets.com/books/1361039443m...   \n",
       "\n",
       "                                     small_image_url  \n",
       "0  https://images.gr-assets.com/books/1447303603s...  \n",
       "1  https://images.gr-assets.com/books/1474154022s...  \n",
       "2  https://images.gr-assets.com/books/1361039443s...  \n",
       "\n",
       "[3 rows x 23 columns]"
      ]
     },
     "execution_count": 6,
     "metadata": {},
     "output_type": "execute_result"
    }
   ],
   "source": [
    "# Import libraries and prep Notebook\n",
    "import pandas as pd\n",
    "\n",
    "# Load CSV data as a Pandas DataFrame\n",
    "books = pd.read_csv(r'C:/Users/alana/OneDrive/Desktop/DSC 350/'\n",
    "                    'FlatFile_ Term_Project_Data/books.csv')\n",
    "\n",
    "books.head(3)"
   ]
  },
  {
   "cell_type": "markdown",
   "id": "892e670e-6fa6-418c-b723-51b15fea0d5e",
   "metadata": {},
   "source": [
    "# <center>Transformation 1"
   ]
  },
  {
   "cell_type": "code",
   "execution_count": 10,
   "id": "f0a4976a-e30c-4c20-9769-3146f62f8045",
   "metadata": {},
   "outputs": [
    {
     "data": {
      "text/html": [
       "<div>\n",
       "<style scoped>\n",
       "    .dataframe tbody tr th:only-of-type {\n",
       "        vertical-align: middle;\n",
       "    }\n",
       "\n",
       "    .dataframe tbody tr th {\n",
       "        vertical-align: top;\n",
       "    }\n",
       "\n",
       "    .dataframe thead th {\n",
       "        text-align: right;\n",
       "    }\n",
       "</style>\n",
       "<table border=\"1\" class=\"dataframe\">\n",
       "  <thead>\n",
       "    <tr style=\"text-align: right;\">\n",
       "      <th></th>\n",
       "      <th>ID</th>\n",
       "      <th>book_ID</th>\n",
       "      <th>best_book_id</th>\n",
       "      <th>work_ID</th>\n",
       "      <th>books_count</th>\n",
       "      <th>ISBN</th>\n",
       "      <th>ISBN_13</th>\n",
       "      <th>Authors</th>\n",
       "      <th>OG_publication_year</th>\n",
       "      <th>OG_title</th>\n",
       "      <th>...</th>\n",
       "      <th>ratings_count</th>\n",
       "      <th>work_ratings_count</th>\n",
       "      <th>work_txtreviews_count</th>\n",
       "      <th>rate_1</th>\n",
       "      <th>rate_2</th>\n",
       "      <th>rate_3</th>\n",
       "      <th>rate_4</th>\n",
       "      <th>rate_5</th>\n",
       "      <th>image_url</th>\n",
       "      <th>sml_img_URL</th>\n",
       "    </tr>\n",
       "  </thead>\n",
       "  <tbody>\n",
       "    <tr>\n",
       "      <th>0</th>\n",
       "      <td>1</td>\n",
       "      <td>2767052</td>\n",
       "      <td>2767052</td>\n",
       "      <td>2792775</td>\n",
       "      <td>272</td>\n",
       "      <td>439023483</td>\n",
       "      <td>9.780439e+12</td>\n",
       "      <td>Suzanne Collins</td>\n",
       "      <td>2008.0</td>\n",
       "      <td>The Hunger Games</td>\n",
       "      <td>...</td>\n",
       "      <td>4780653</td>\n",
       "      <td>4942365</td>\n",
       "      <td>155254</td>\n",
       "      <td>66715</td>\n",
       "      <td>127936</td>\n",
       "      <td>560092</td>\n",
       "      <td>1481305</td>\n",
       "      <td>2706317</td>\n",
       "      <td>https://images.gr-assets.com/books/1447303603m...</td>\n",
       "      <td>https://images.gr-assets.com/books/1447303603s...</td>\n",
       "    </tr>\n",
       "    <tr>\n",
       "      <th>1</th>\n",
       "      <td>2</td>\n",
       "      <td>3</td>\n",
       "      <td>3</td>\n",
       "      <td>4640799</td>\n",
       "      <td>491</td>\n",
       "      <td>439554934</td>\n",
       "      <td>9.780440e+12</td>\n",
       "      <td>J.K. Rowling, Mary GrandPré</td>\n",
       "      <td>1997.0</td>\n",
       "      <td>Harry Potter and the Philosopher's Stone</td>\n",
       "      <td>...</td>\n",
       "      <td>4602479</td>\n",
       "      <td>4800065</td>\n",
       "      <td>75867</td>\n",
       "      <td>75504</td>\n",
       "      <td>101676</td>\n",
       "      <td>455024</td>\n",
       "      <td>1156318</td>\n",
       "      <td>3011543</td>\n",
       "      <td>https://images.gr-assets.com/books/1474154022m...</td>\n",
       "      <td>https://images.gr-assets.com/books/1474154022s...</td>\n",
       "    </tr>\n",
       "    <tr>\n",
       "      <th>2</th>\n",
       "      <td>3</td>\n",
       "      <td>41865</td>\n",
       "      <td>41865</td>\n",
       "      <td>3212258</td>\n",
       "      <td>226</td>\n",
       "      <td>316015849</td>\n",
       "      <td>9.780316e+12</td>\n",
       "      <td>Stephenie Meyer</td>\n",
       "      <td>2005.0</td>\n",
       "      <td>Twilight</td>\n",
       "      <td>...</td>\n",
       "      <td>3866839</td>\n",
       "      <td>3916824</td>\n",
       "      <td>95009</td>\n",
       "      <td>456191</td>\n",
       "      <td>436802</td>\n",
       "      <td>793319</td>\n",
       "      <td>875073</td>\n",
       "      <td>1355439</td>\n",
       "      <td>https://images.gr-assets.com/books/1361039443m...</td>\n",
       "      <td>https://images.gr-assets.com/books/1361039443s...</td>\n",
       "    </tr>\n",
       "  </tbody>\n",
       "</table>\n",
       "<p>3 rows × 23 columns</p>\n",
       "</div>"
      ],
      "text/plain": [
       "   ID  book_ID  best_book_id  work_ID  books_count       ISBN       ISBN_13  \\\n",
       "0   1  2767052       2767052  2792775          272  439023483  9.780439e+12   \n",
       "1   2        3             3  4640799          491  439554934  9.780440e+12   \n",
       "2   3    41865         41865  3212258          226  316015849  9.780316e+12   \n",
       "\n",
       "                       Authors  OG_publication_year  \\\n",
       "0              Suzanne Collins               2008.0   \n",
       "1  J.K. Rowling, Mary GrandPré               1997.0   \n",
       "2              Stephenie Meyer               2005.0   \n",
       "\n",
       "                                   OG_title  ... ratings_count  \\\n",
       "0                          The Hunger Games  ...       4780653   \n",
       "1  Harry Potter and the Philosopher's Stone  ...       4602479   \n",
       "2                                  Twilight  ...       3866839   \n",
       "\n",
       "  work_ratings_count  work_txtreviews_count  rate_1  rate_2  rate_3   rate_4  \\\n",
       "0            4942365                 155254   66715  127936  560092  1481305   \n",
       "1            4800065                  75867   75504  101676  455024  1156318   \n",
       "2            3916824                  95009  456191  436802  793319   875073   \n",
       "\n",
       "    rate_5                                          image_url  \\\n",
       "0  2706317  https://images.gr-assets.com/books/1447303603m...   \n",
       "1  3011543  https://images.gr-assets.com/books/1474154022m...   \n",
       "2  1355439  https://images.gr-assets.com/books/1361039443m...   \n",
       "\n",
       "                                         sml_img_URL  \n",
       "0  https://images.gr-assets.com/books/1447303603s...  \n",
       "1  https://images.gr-assets.com/books/1474154022s...  \n",
       "2  https://images.gr-assets.com/books/1361039443s...  \n",
       "\n",
       "[3 rows x 23 columns]"
      ]
     },
     "execution_count": 10,
     "metadata": {},
     "output_type": "execute_result"
    }
   ],
   "source": [
    "# Perform some transformations\n",
    "\n",
    "# Replace Headers using a dictionary\n",
    "## key = old name\n",
    "## value = new name\n",
    "new_headers = {'id':'ID', \n",
    "               'book_id':'book_ID', \n",
    "               'best_boook_id':'best_book_ID', \n",
    "               'work_id':'work_ID', \n",
    "               'books_count':'books_count', \n",
    "               'isbn':'ISBN', \n",
    "               'isbn13':'ISBN_13', \n",
    "               'authors':'Authors', \n",
    "               'original_publication_year':'OG_publication_year', \n",
    "               'original_title':'OG_title', \n",
    "               'title':'title', \n",
    "               'language_code':'lang_code', \n",
    "               'average_rating':'mean_rating', \n",
    "               'ratings_count':'ratings_count', \n",
    "               'work_ratings_count':'work_ratings_count', \n",
    "               'work_text_reviews_count':'work_txtreviews_count', \n",
    "               'ratings_1':'rate_1', \n",
    "               'ratings_2':'rate_2', \n",
    "               'ratings_3':'rate_3', \n",
    "               'ratings_4':'rate_4', \n",
    "               'ratings_5':'rate_5', \n",
    "               'imgage_url':'img_URL', \n",
    "               'small_image_url':'sml_img_URL'\n",
    "              }\n",
    "\n",
    "# Use rename() method\n",
    "books.rename(columns=new_headers,\n",
    "            inplace=True)\n",
    "\n",
    "# Confirm transformation\n",
    "books.head(3)"
   ]
  },
  {
   "cell_type": "code",
   "execution_count": 24,
   "id": "0f8ca4ef-87bd-4a4f-9dba-7665a0730cd4",
   "metadata": {},
   "outputs": [],
   "source": [
    "# \\\n",
    "# Code attribution: Transformation 1\n",
    "## GeeksforGeeks - 'https://www.geeksforgeeks.org/'\n",
    "## 'how-to-rename-multiple-column-headers-in-a-pandas-dataframe/'\n",
    "# \\"
   ]
  },
  {
   "cell_type": "markdown",
   "id": "f94af229-7dc9-41ad-ad4f-04e8bade1b80",
   "metadata": {},
   "source": [
    "# <center>Transformation 2"
   ]
  },
  {
   "cell_type": "code",
   "execution_count": 17,
   "id": "be0c78af-5e2f-4b77-bba2-075cb6a5c892",
   "metadata": {},
   "outputs": [
    {
     "name": "stdout",
     "output_type": "stream",
     "text": [
      "0       False\n",
      "1       False\n",
      "2       False\n",
      "3       False\n",
      "4       False\n",
      "        ...  \n",
      "9995    False\n",
      "9996    False\n",
      "9997    False\n",
      "9998    False\n",
      "9999    False\n",
      "Length: 10000, dtype: bool\n"
     ]
    }
   ],
   "source": [
    "# Find duplicate data\n",
    "\n",
    "# Use Pandas `.duplicated()` method to find duplicate rows (redundant data)\n",
    "find_duplicate_rows = books.duplicated()\n",
    "\n",
    "# Display duplicates\n",
    "print(find_duplicate_rows)"
   ]
  },
  {
   "cell_type": "code",
   "execution_count": 23,
   "id": "a929ce22-2b83-4bb4-b04d-5c83fac27878",
   "metadata": {},
   "outputs": [],
   "source": [
    "# \\\n",
    "# Code attribution: Transformation 2\n",
    "## SaturnCloud - 'https://saturncloud.io/blog/'\n",
    "## 'how-to-find-all-duplicate-rows-in-a-pandas-dataframe/'\n",
    "# \\"
   ]
  },
  {
   "cell_type": "markdown",
   "id": "cd148b75-6faa-43b2-86de-e8eccc75c581",
   "metadata": {},
   "source": [
    "# <center>Transformation 3"
   ]
  },
  {
   "cell_type": "code",
   "execution_count": 26,
   "id": "e2a9760b-0b7c-4eb6-b2b8-17b87b634742",
   "metadata": {},
   "outputs": [
    {
     "name": "stdout",
     "output_type": "stream",
     "text": [
      "Empty DataFrame\n",
      "Columns: [ID, book_ID, best_book_id, work_ID, books_count, ISBN, ISBN_13, Authors, OG_publication_year, OG_title, title, lang_code, mean_rating, ratings_count, work_ratings_count, work_txtreviews_count, rate_1, rate_2, rate_3, rate_4, rate_5, image_url, sml_img_URL]\n",
      "Index: []\n",
      "\n",
      "[0 rows x 23 columns]\n"
     ]
    }
   ],
   "source": [
    "# Identify outliers\n",
    "\n",
    "# Import NumPy and scipy for calculation\n",
    "import numpy as np\n",
    "from scipy import stats\n",
    "\n",
    "# Use Z-score\n",
    "## Find any outliers in the count of ratings\n",
    "z_score = np.abs(stats.zscore(books['ratings_count']))\n",
    "\n",
    "# Define outliers as a ratings count of greater than 5,780,653\n",
    "threshold = 5780653\n",
    "ratings_count_outliers = books[z_score > threshold]\n",
    "\n",
    "print(ratings_count_outliers)"
   ]
  },
  {
   "cell_type": "code",
   "execution_count": null,
   "id": "b8e2abc8-e268-4930-89b8-5d7579c52ab6",
   "metadata": {},
   "outputs": [],
   "source": [
    "# \\\n",
    "# Code attribution: Transformation 3\n",
    "## SaturnCloud - 'https://saturncloud.io/blog/'\n",
    "## 'how-to-detect-and-exclude-outliers-in-a-pandas-dataframe/'\n",
    "# \\"
   ]
  },
  {
   "cell_type": "markdown",
   "id": "5bc9c250-9bc0-4359-bef8-0d00fa348796",
   "metadata": {},
   "source": [
    "# <center>Transformation 4"
   ]
  },
  {
   "cell_type": "code",
   "execution_count": 27,
   "id": "ddaa24a6-9f1a-44ff-bb01-649bef51fc2f",
   "metadata": {},
   "outputs": [
    {
     "name": "stdout",
     "output_type": "stream",
     "text": [
      "Empty DataFrame\n",
      "Columns: [ID, book_ID, best_book_id, work_ID, books_count, ISBN, ISBN_13, Authors, OG_publication_year, OG_title, title, lang_code, mean_rating, ratings_count, work_ratings_count, work_txtreviews_count, rate_1, rate_2, rate_3, rate_4, rate_5, image_url, sml_img_URL]\n",
      "Index: []\n",
      "\n",
      "[0 rows x 23 columns]\n"
     ]
    }
   ],
   "source": [
    "# Identify outliers\n",
    "\n",
    "# Z-score again\n",
    "## Find any outliers in the Original Publication Year\n",
    "z_score = np.abs(stats.zscore(books['OG_publication_year']))\n",
    "\n",
    "# Define outliers as a ratings count of greater than 1950\n",
    "threshold = 1950\n",
    "OG_pub_outliers = books[z_score > threshold]\n",
    "\n",
    "print(OG_pub_outliers)"
   ]
  },
  {
   "cell_type": "markdown",
   "id": "402182bd-4c1e-42c8-bc69-615d092a7c7c",
   "metadata": {},
   "source": [
    "# <center> Transformation 5"
   ]
  },
  {
   "cell_type": "code",
   "execution_count": 34,
   "id": "834e5689-67af-4df0-9bce-d79b67330060",
   "metadata": {},
   "outputs": [
    {
     "data": {
      "text/plain": [
       "array(['A. Manette Ansay', 'A. Meredith Walters',\n",
       "       'A.A. Milne, Ernest H. Shepard', ..., 'ياسر حارب', 'يوسف زيدان',\n",
       "       'يوسف زيدان, Youssef Ziedan'], dtype=object)"
      ]
     },
     "execution_count": 34,
     "metadata": {},
     "output_type": "execute_result"
    }
   ],
   "source": [
    "# Inconsistent data entry\n",
    "## Fix whitespace\n",
    "\n",
    "# Find unique values in the Authors column\n",
    "##  use .unique() method\n",
    "Authors_col = books['Authors'].unique()\n",
    "\n",
    "# Sort values and see data\n",
    "Authors_col.sort()\n",
    "Authors_col"
   ]
  },
  {
   "cell_type": "code",
   "execution_count": 33,
   "id": "99c8608e-728a-4027-b186-a63d79bebdcd",
   "metadata": {},
   "outputs": [
    {
     "name": "stdout",
     "output_type": "stream",
     "text": [
      "['Suzanne Collins' 'J.K. Rowling, Mary GrandPré' 'Stephenie Meyer' ...\n",
      " 'Ian Mortimer' 'Peggy Orenstein' 'John Keegan']\n"
     ]
    }
   ],
   "source": [
    "# Remove whitespace\n",
    "books['Authors'] = books['Authors'].str.strip()\n",
    "\n",
    "# Confirm that whitespaces were removed\n",
    "print(books['Authors'].unique())"
   ]
  },
  {
   "cell_type": "code",
   "execution_count": null,
   "id": "f1109dac-b2f3-4528-98e1-444c0be6747c",
   "metadata": {},
   "outputs": [],
   "source": [
    "# \\\n",
    "# Code attribution: Transformation 5\n",
    "## Nerd For Tech from Medium - 'https://medium.com/nerd-for-tech/'\n",
    "## 'data-cleaning-inconsistent-data-entry-7731ac3c52c7'\n",
    "# \\"
   ]
  },
  {
   "cell_type": "markdown",
   "id": "58f55077-7da2-444e-8fbc-3516eafb9cd5",
   "metadata": {},
   "source": [
    "**NOTE:**\n",
    "> I may undo the whitespace removal if I run into issues with calculations and/or comparisons later."
   ]
  }
 ],
 "metadata": {
  "kernelspec": {
   "display_name": "Python 3 (ipykernel)",
   "language": "python",
   "name": "python3"
  },
  "language_info": {
   "codemirror_mode": {
    "name": "ipython",
    "version": 3
   },
   "file_extension": ".py",
   "mimetype": "text/x-python",
   "name": "python",
   "nbconvert_exporter": "python",
   "pygments_lexer": "ipython3",
   "version": "3.11.7"
  }
 },
 "nbformat": 4,
 "nbformat_minor": 5
}
